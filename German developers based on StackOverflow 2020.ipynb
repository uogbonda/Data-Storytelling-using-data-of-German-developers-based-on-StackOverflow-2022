{
 "cells": [
  {
   "cell_type": "markdown",
   "id": "d2392524",
   "metadata": {},
   "source": [
    "## German Developers based on StackOverflow 2020 Developers Survey\n",
    "\n",
    "Scenario: A Competitor platform wants to know the results of 2020 developers survey based on German developers. The company needs detailed information from the survey to compare with their survey and see what developers like on a platform in order to make some decisions on how best to get developers to have an account on their own platform.\n",
    "\n",
    "### My task\n",
    "- Create a new dataframe for only German developers from the existing survey dataframe.\n",
    "- Analyzing this year's developer survey results to find interesting facts and directions in the software development community.\n",
    "- Percentage of German developers who took the survey.\n",
    "- Know developers who noticed a change in the StackOverflow platform.\n",
    "- What is the Age distribution?"
   ]
  },
  {
   "cell_type": "code",
   "execution_count": 3,
   "id": "a1abf25b",
   "metadata": {},
   "outputs": [],
   "source": [
    "import pandas as pd\n",
    "import numpy as np\n",
    "import seaborn as sns"
   ]
  },
  {
   "cell_type": "markdown",
   "id": "64d9e88a",
   "metadata": {},
   "source": [
    "###  1 & 2 .  The survey results of the public dataset from stack Overflow for the year 2020."
   ]
  },
  {
   "cell_type": "code",
   "execution_count": 4,
   "id": "1de215a0",
   "metadata": {},
   "outputs": [
    {
     "data": {
      "text/html": [
       "<div>\n",
       "<style scoped>\n",
       "    .dataframe tbody tr th:only-of-type {\n",
       "        vertical-align: middle;\n",
       "    }\n",
       "\n",
       "    .dataframe tbody tr th {\n",
       "        vertical-align: top;\n",
       "    }\n",
       "\n",
       "    .dataframe thead th {\n",
       "        text-align: right;\n",
       "    }\n",
       "</style>\n",
       "<table border=\"1\" class=\"dataframe\">\n",
       "  <thead>\n",
       "    <tr style=\"text-align: right;\">\n",
       "      <th></th>\n",
       "      <th>Respondent</th>\n",
       "      <th>MainBranch</th>\n",
       "      <th>Hobbyist</th>\n",
       "      <th>Age</th>\n",
       "      <th>Age1stCode</th>\n",
       "      <th>CompFreq</th>\n",
       "      <th>CompTotal</th>\n",
       "      <th>ConvertedComp</th>\n",
       "      <th>Country</th>\n",
       "      <th>CurrencyDesc</th>\n",
       "      <th>...</th>\n",
       "      <th>SurveyEase</th>\n",
       "      <th>SurveyLength</th>\n",
       "      <th>Trans</th>\n",
       "      <th>UndergradMajor</th>\n",
       "      <th>WebframeDesireNextYear</th>\n",
       "      <th>WebframeWorkedWith</th>\n",
       "      <th>WelcomeChange</th>\n",
       "      <th>WorkWeekHrs</th>\n",
       "      <th>YearsCode</th>\n",
       "      <th>YearsCodePro</th>\n",
       "    </tr>\n",
       "  </thead>\n",
       "  <tbody>\n",
       "    <tr>\n",
       "      <th>0</th>\n",
       "      <td>1</td>\n",
       "      <td>I am a developer by profession</td>\n",
       "      <td>Yes</td>\n",
       "      <td>NaN</td>\n",
       "      <td>13</td>\n",
       "      <td>Monthly</td>\n",
       "      <td>NaN</td>\n",
       "      <td>NaN</td>\n",
       "      <td>Germany</td>\n",
       "      <td>European Euro</td>\n",
       "      <td>...</td>\n",
       "      <td>Neither easy nor difficult</td>\n",
       "      <td>Appropriate in length</td>\n",
       "      <td>No</td>\n",
       "      <td>Computer science, computer engineering, or sof...</td>\n",
       "      <td>ASP.NET Core</td>\n",
       "      <td>ASP.NET;ASP.NET Core</td>\n",
       "      <td>Just as welcome now as I felt last year</td>\n",
       "      <td>50.0</td>\n",
       "      <td>36</td>\n",
       "      <td>27</td>\n",
       "    </tr>\n",
       "    <tr>\n",
       "      <th>1</th>\n",
       "      <td>2</td>\n",
       "      <td>I am a developer by profession</td>\n",
       "      <td>No</td>\n",
       "      <td>NaN</td>\n",
       "      <td>19</td>\n",
       "      <td>NaN</td>\n",
       "      <td>NaN</td>\n",
       "      <td>NaN</td>\n",
       "      <td>United Kingdom</td>\n",
       "      <td>Pound sterling</td>\n",
       "      <td>...</td>\n",
       "      <td>NaN</td>\n",
       "      <td>NaN</td>\n",
       "      <td>NaN</td>\n",
       "      <td>Computer science, computer engineering, or sof...</td>\n",
       "      <td>NaN</td>\n",
       "      <td>NaN</td>\n",
       "      <td>Somewhat more welcome now than last year</td>\n",
       "      <td>NaN</td>\n",
       "      <td>7</td>\n",
       "      <td>4</td>\n",
       "    </tr>\n",
       "  </tbody>\n",
       "</table>\n",
       "<p>2 rows × 61 columns</p>\n",
       "</div>"
      ],
      "text/plain": [
       "   Respondent                      MainBranch Hobbyist  Age Age1stCode  \\\n",
       "0           1  I am a developer by profession      Yes  NaN         13   \n",
       "1           2  I am a developer by profession       No  NaN         19   \n",
       "\n",
       "  CompFreq  CompTotal  ConvertedComp         Country    CurrencyDesc  ...  \\\n",
       "0  Monthly        NaN            NaN         Germany   European Euro  ...   \n",
       "1      NaN        NaN            NaN  United Kingdom  Pound sterling  ...   \n",
       "\n",
       "                   SurveyEase           SurveyLength Trans  \\\n",
       "0  Neither easy nor difficult  Appropriate in length    No   \n",
       "1                         NaN                    NaN   NaN   \n",
       "\n",
       "                                      UndergradMajor WebframeDesireNextYear  \\\n",
       "0  Computer science, computer engineering, or sof...           ASP.NET Core   \n",
       "1  Computer science, computer engineering, or sof...                    NaN   \n",
       "\n",
       "     WebframeWorkedWith                             WelcomeChange WorkWeekHrs  \\\n",
       "0  ASP.NET;ASP.NET Core   Just as welcome now as I felt last year        50.0   \n",
       "1                   NaN  Somewhat more welcome now than last year         NaN   \n",
       "\n",
       "  YearsCode YearsCodePro  \n",
       "0        36           27  \n",
       "1         7            4  \n",
       "\n",
       "[2 rows x 61 columns]"
      ]
     },
     "execution_count": 4,
     "metadata": {},
     "output_type": "execute_result"
    }
   ],
   "source": [
    "df=pd.read_csv(r'C:\\Users\\Uyoyo\\Downloads\\survey_results_public.csv')\n",
    "df.head(2)"
   ]
  },
  {
   "cell_type": "code",
   "execution_count": 5,
   "id": "125acde8",
   "metadata": {},
   "outputs": [
    {
     "data": {
      "text/plain": [
       "Index(['Respondent', 'MainBranch', 'Hobbyist', 'Age', 'Age1stCode', 'CompFreq',\n",
       "       'CompTotal', 'ConvertedComp', 'Country', 'CurrencyDesc',\n",
       "       'CurrencySymbol', 'DatabaseDesireNextYear', 'DatabaseWorkedWith',\n",
       "       'DevType', 'EdLevel', 'Employment', 'Ethnicity', 'Gender', 'JobFactors',\n",
       "       'JobSat', 'JobSeek', 'LanguageDesireNextYear', 'LanguageWorkedWith',\n",
       "       'MiscTechDesireNextYear', 'MiscTechWorkedWith',\n",
       "       'NEWCollabToolsDesireNextYear', 'NEWCollabToolsWorkedWith', 'NEWDevOps',\n",
       "       'NEWDevOpsImpt', 'NEWEdImpt', 'NEWJobHunt', 'NEWJobHuntResearch',\n",
       "       'NEWLearn', 'NEWOffTopic', 'NEWOnboardGood', 'NEWOtherComms',\n",
       "       'NEWOvertime', 'NEWPurchaseResearch', 'NEWPurpleLink', 'NEWSOSites',\n",
       "       'NEWStuck', 'OpSys', 'OrgSize', 'PlatformDesireNextYear',\n",
       "       'PlatformWorkedWith', 'PurchaseWhat', 'Sexuality', 'SOAccount',\n",
       "       'SOComm', 'SOPartFreq', 'SOVisitFreq', 'SurveyEase', 'SurveyLength',\n",
       "       'Trans', 'UndergradMajor', 'WebframeDesireNextYear',\n",
       "       'WebframeWorkedWith', 'WelcomeChange', 'WorkWeekHrs', 'YearsCode',\n",
       "       'YearsCodePro'],\n",
       "      dtype='object')"
      ]
     },
     "execution_count": 5,
     "metadata": {},
     "output_type": "execute_result"
    }
   ],
   "source": [
    "df.columns"
   ]
  },
  {
   "cell_type": "code",
   "execution_count": 6,
   "id": "ba804ac5",
   "metadata": {},
   "outputs": [
    {
     "data": {
      "text/html": [
       "<div>\n",
       "<style scoped>\n",
       "    .dataframe tbody tr th:only-of-type {\n",
       "        vertical-align: middle;\n",
       "    }\n",
       "\n",
       "    .dataframe tbody tr th {\n",
       "        vertical-align: top;\n",
       "    }\n",
       "\n",
       "    .dataframe thead th {\n",
       "        text-align: right;\n",
       "    }\n",
       "</style>\n",
       "<table border=\"1\" class=\"dataframe\">\n",
       "  <thead>\n",
       "    <tr style=\"text-align: right;\">\n",
       "      <th></th>\n",
       "      <th>Column</th>\n",
       "      <th>QuestionText</th>\n",
       "    </tr>\n",
       "  </thead>\n",
       "  <tbody>\n",
       "    <tr>\n",
       "      <th>0</th>\n",
       "      <td>Respondent</td>\n",
       "      <td>Randomized respondent ID number (not in order ...</td>\n",
       "    </tr>\n",
       "    <tr>\n",
       "      <th>1</th>\n",
       "      <td>MainBranch</td>\n",
       "      <td>Which of the following options best describes ...</td>\n",
       "    </tr>\n",
       "  </tbody>\n",
       "</table>\n",
       "</div>"
      ],
      "text/plain": [
       "       Column                                       QuestionText\n",
       "0  Respondent  Randomized respondent ID number (not in order ...\n",
       "1  MainBranch  Which of the following options best describes ..."
      ]
     },
     "execution_count": 6,
     "metadata": {},
     "output_type": "execute_result"
    }
   ],
   "source": [
    "df1=pd.read_csv(r'C:\\Users\\Uyoyo\\Desktop\\REDI SCHOOL HOMEWORK\\FINAL PROJECT SPRING 2021\\survey_results_schema.csv')\n",
    "df1.head(2)\n",
    "\n",
    "#df1[['QuestionText','Column']]"
   ]
  },
  {
   "cell_type": "code",
   "execution_count": 7,
   "id": "244fec2e",
   "metadata": {},
   "outputs": [
    {
     "data": {
      "text/html": [
       "<div>\n",
       "<style scoped>\n",
       "    .dataframe tbody tr th:only-of-type {\n",
       "        vertical-align: middle;\n",
       "    }\n",
       "\n",
       "    .dataframe tbody tr th {\n",
       "        vertical-align: top;\n",
       "    }\n",
       "\n",
       "    .dataframe thead th {\n",
       "        text-align: right;\n",
       "    }\n",
       "</style>\n",
       "<table border=\"1\" class=\"dataframe\">\n",
       "  <thead>\n",
       "    <tr style=\"text-align: right;\">\n",
       "      <th></th>\n",
       "      <th>Respondent</th>\n",
       "      <th>MainBranch</th>\n",
       "      <th>Hobbyist</th>\n",
       "      <th>Age</th>\n",
       "      <th>Age1stCode</th>\n",
       "      <th>CompFreq</th>\n",
       "      <th>CompTotal</th>\n",
       "      <th>ConvertedComp</th>\n",
       "      <th>Country</th>\n",
       "      <th>CurrencyDesc</th>\n",
       "      <th>...</th>\n",
       "      <th>SurveyEase</th>\n",
       "      <th>SurveyLength</th>\n",
       "      <th>Trans</th>\n",
       "      <th>UndergradMajor</th>\n",
       "      <th>WebframeDesireNextYear</th>\n",
       "      <th>WebframeWorkedWith</th>\n",
       "      <th>WelcomeChange</th>\n",
       "      <th>WorkWeekHrs</th>\n",
       "      <th>YearsCode</th>\n",
       "      <th>YearsCodePro</th>\n",
       "    </tr>\n",
       "  </thead>\n",
       "  <tbody>\n",
       "    <tr>\n",
       "      <th>0</th>\n",
       "      <td>1</td>\n",
       "      <td>I am a developer by profession</td>\n",
       "      <td>Yes</td>\n",
       "      <td>0.0</td>\n",
       "      <td>13</td>\n",
       "      <td>Monthly</td>\n",
       "      <td>0.0</td>\n",
       "      <td>0.0</td>\n",
       "      <td>Germany</td>\n",
       "      <td>European Euro</td>\n",
       "      <td>...</td>\n",
       "      <td>Neither easy nor difficult</td>\n",
       "      <td>Appropriate in length</td>\n",
       "      <td>No</td>\n",
       "      <td>Computer science, computer engineering, or sof...</td>\n",
       "      <td>ASP.NET Core</td>\n",
       "      <td>ASP.NET;ASP.NET Core</td>\n",
       "      <td>Just as welcome now as I felt last year</td>\n",
       "      <td>50.0</td>\n",
       "      <td>36</td>\n",
       "      <td>27</td>\n",
       "    </tr>\n",
       "    <tr>\n",
       "      <th>1</th>\n",
       "      <td>2</td>\n",
       "      <td>I am a developer by profession</td>\n",
       "      <td>No</td>\n",
       "      <td>0.0</td>\n",
       "      <td>19</td>\n",
       "      <td>0</td>\n",
       "      <td>0.0</td>\n",
       "      <td>0.0</td>\n",
       "      <td>United Kingdom</td>\n",
       "      <td>Pound sterling</td>\n",
       "      <td>...</td>\n",
       "      <td>0</td>\n",
       "      <td>0</td>\n",
       "      <td>0</td>\n",
       "      <td>Computer science, computer engineering, or sof...</td>\n",
       "      <td>0</td>\n",
       "      <td>0</td>\n",
       "      <td>Somewhat more welcome now than last year</td>\n",
       "      <td>0.0</td>\n",
       "      <td>7</td>\n",
       "      <td>4</td>\n",
       "    </tr>\n",
       "  </tbody>\n",
       "</table>\n",
       "<p>2 rows × 61 columns</p>\n",
       "</div>"
      ],
      "text/plain": [
       "   Respondent                      MainBranch Hobbyist  Age Age1stCode  \\\n",
       "0           1  I am a developer by profession      Yes  0.0         13   \n",
       "1           2  I am a developer by profession       No  0.0         19   \n",
       "\n",
       "  CompFreq  CompTotal  ConvertedComp         Country    CurrencyDesc  ...  \\\n",
       "0  Monthly        0.0            0.0         Germany   European Euro  ...   \n",
       "1        0        0.0            0.0  United Kingdom  Pound sterling  ...   \n",
       "\n",
       "                   SurveyEase           SurveyLength Trans  \\\n",
       "0  Neither easy nor difficult  Appropriate in length    No   \n",
       "1                           0                      0     0   \n",
       "\n",
       "                                      UndergradMajor WebframeDesireNextYear  \\\n",
       "0  Computer science, computer engineering, or sof...           ASP.NET Core   \n",
       "1  Computer science, computer engineering, or sof...                      0   \n",
       "\n",
       "     WebframeWorkedWith                             WelcomeChange WorkWeekHrs  \\\n",
       "0  ASP.NET;ASP.NET Core   Just as welcome now as I felt last year        50.0   \n",
       "1                     0  Somewhat more welcome now than last year         0.0   \n",
       "\n",
       "  YearsCode YearsCodePro  \n",
       "0        36           27  \n",
       "1         7            4  \n",
       "\n",
       "[2 rows x 61 columns]"
      ]
     },
     "execution_count": 7,
     "metadata": {},
     "output_type": "execute_result"
    }
   ],
   "source": [
    "df=df.replace(np.nan, 0)\n",
    "df.head(2)"
   ]
  },
  {
   "cell_type": "markdown",
   "id": "bfde4787",
   "metadata": {},
   "source": [
    "### Data filtering\n",
    "\n",
    "### Creating a new dataframe from existing survey data.\n",
    "\n",
    "Specified country as Germany."
   ]
  },
  {
   "cell_type": "code",
   "execution_count": 8,
   "id": "508db05e",
   "metadata": {},
   "outputs": [
    {
     "data": {
      "text/html": [
       "<div>\n",
       "<style scoped>\n",
       "    .dataframe tbody tr th:only-of-type {\n",
       "        vertical-align: middle;\n",
       "    }\n",
       "\n",
       "    .dataframe tbody tr th {\n",
       "        vertical-align: top;\n",
       "    }\n",
       "\n",
       "    .dataframe thead th {\n",
       "        text-align: right;\n",
       "    }\n",
       "</style>\n",
       "<table border=\"1\" class=\"dataframe\">\n",
       "  <thead>\n",
       "    <tr style=\"text-align: right;\">\n",
       "      <th></th>\n",
       "      <th>Respondent</th>\n",
       "      <th>MainBranch</th>\n",
       "      <th>Hobbyist</th>\n",
       "      <th>Age</th>\n",
       "      <th>Age1stCode</th>\n",
       "      <th>CompFreq</th>\n",
       "      <th>CompTotal</th>\n",
       "      <th>ConvertedComp</th>\n",
       "      <th>Country</th>\n",
       "      <th>CurrencyDesc</th>\n",
       "      <th>...</th>\n",
       "      <th>SurveyEase</th>\n",
       "      <th>SurveyLength</th>\n",
       "      <th>Trans</th>\n",
       "      <th>UndergradMajor</th>\n",
       "      <th>WebframeDesireNextYear</th>\n",
       "      <th>WebframeWorkedWith</th>\n",
       "      <th>WelcomeChange</th>\n",
       "      <th>WorkWeekHrs</th>\n",
       "      <th>YearsCode</th>\n",
       "      <th>YearsCodePro</th>\n",
       "    </tr>\n",
       "  </thead>\n",
       "  <tbody>\n",
       "    <tr>\n",
       "      <th>0</th>\n",
       "      <td>1</td>\n",
       "      <td>I am a developer by profession</td>\n",
       "      <td>Yes</td>\n",
       "      <td>0.0</td>\n",
       "      <td>13</td>\n",
       "      <td>Monthly</td>\n",
       "      <td>0.0</td>\n",
       "      <td>0.0</td>\n",
       "      <td>Germany</td>\n",
       "      <td>European Euro</td>\n",
       "      <td>...</td>\n",
       "      <td>Neither easy nor difficult</td>\n",
       "      <td>Appropriate in length</td>\n",
       "      <td>No</td>\n",
       "      <td>Computer science, computer engineering, or sof...</td>\n",
       "      <td>ASP.NET Core</td>\n",
       "      <td>ASP.NET;ASP.NET Core</td>\n",
       "      <td>Just as welcome now as I felt last year</td>\n",
       "      <td>50.0</td>\n",
       "      <td>36</td>\n",
       "      <td>27</td>\n",
       "    </tr>\n",
       "  </tbody>\n",
       "</table>\n",
       "<p>1 rows × 61 columns</p>\n",
       "</div>"
      ],
      "text/plain": [
       "   Respondent                      MainBranch Hobbyist  Age Age1stCode  \\\n",
       "0           1  I am a developer by profession      Yes  0.0         13   \n",
       "\n",
       "  CompFreq  CompTotal  ConvertedComp  Country   CurrencyDesc  ...  \\\n",
       "0  Monthly        0.0            0.0  Germany  European Euro  ...   \n",
       "\n",
       "                   SurveyEase           SurveyLength Trans  \\\n",
       "0  Neither easy nor difficult  Appropriate in length    No   \n",
       "\n",
       "                                      UndergradMajor WebframeDesireNextYear  \\\n",
       "0  Computer science, computer engineering, or sof...           ASP.NET Core   \n",
       "\n",
       "     WebframeWorkedWith                            WelcomeChange WorkWeekHrs  \\\n",
       "0  ASP.NET;ASP.NET Core  Just as welcome now as I felt last year        50.0   \n",
       "\n",
       "  YearsCode YearsCodePro  \n",
       "0        36           27  \n",
       "\n",
       "[1 rows x 61 columns]"
      ]
     },
     "execution_count": 8,
     "metadata": {},
     "output_type": "execute_result"
    }
   ],
   "source": [
    "df_dev_german=df[(df[\"MainBranch\"] == \"I am a developer by profession\") & (df[\"Country\"] == \"Germany\")].copy()\n",
    "filter_german=df_dev_german\n",
    "filter_german.head(1)"
   ]
  },
  {
   "cell_type": "code",
   "execution_count": 9,
   "id": "9cbd7ee0",
   "metadata": {},
   "outputs": [
    {
     "data": {
      "text/plain": [
       "Index(['Respondent', 'MainBranch', 'Hobbyist', 'Age', 'Age1stCode', 'CompFreq',\n",
       "       'CompTotal', 'ConvertedComp', 'Country', 'CurrencyDesc',\n",
       "       'CurrencySymbol', 'DatabaseDesireNextYear', 'DatabaseWorkedWith',\n",
       "       'DevType', 'EdLevel', 'Employment', 'Ethnicity', 'Gender', 'JobFactors',\n",
       "       'JobSat', 'JobSeek', 'LanguageDesireNextYear', 'LanguageWorkedWith',\n",
       "       'MiscTechDesireNextYear', 'MiscTechWorkedWith',\n",
       "       'NEWCollabToolsDesireNextYear', 'NEWCollabToolsWorkedWith', 'NEWDevOps',\n",
       "       'NEWDevOpsImpt', 'NEWEdImpt', 'NEWJobHunt', 'NEWJobHuntResearch',\n",
       "       'NEWLearn', 'NEWOffTopic', 'NEWOnboardGood', 'NEWOtherComms',\n",
       "       'NEWOvertime', 'NEWPurchaseResearch', 'NEWPurpleLink', 'NEWSOSites',\n",
       "       'NEWStuck', 'OpSys', 'OrgSize', 'PlatformDesireNextYear',\n",
       "       'PlatformWorkedWith', 'PurchaseWhat', 'Sexuality', 'SOAccount',\n",
       "       'SOComm', 'SOPartFreq', 'SOVisitFreq', 'SurveyEase', 'SurveyLength',\n",
       "       'Trans', 'UndergradMajor', 'WebframeDesireNextYear',\n",
       "       'WebframeWorkedWith', 'WelcomeChange', 'WorkWeekHrs', 'YearsCode',\n",
       "       'YearsCodePro'],\n",
       "      dtype='object')"
      ]
     },
     "execution_count": 9,
     "metadata": {},
     "output_type": "execute_result"
    }
   ],
   "source": [
    "filter_german.columns"
   ]
  },
  {
   "cell_type": "code",
   "execution_count": 11,
   "id": "ce963bd2",
   "metadata": {},
   "outputs": [
    {
     "name": "stdout",
     "output_type": "stream",
     "text": [
      " The number of German Developers by profession who took the StackOverflow survey is 2877.\n"
     ]
    }
   ],
   "source": [
    "print(f' The number of German Developers by profession who took the StackOverflow survey is {filter_german.shape[0]}.')"
   ]
  },
  {
   "cell_type": "markdown",
   "id": "4ab88c96",
   "metadata": {},
   "source": [
    "### Removed Age=0"
   ]
  },
  {
   "cell_type": "code",
   "execution_count": 12,
   "id": "84621f6d",
   "metadata": {},
   "outputs": [
    {
     "data": {
      "text/html": [
       "<div>\n",
       "<style scoped>\n",
       "    .dataframe tbody tr th:only-of-type {\n",
       "        vertical-align: middle;\n",
       "    }\n",
       "\n",
       "    .dataframe tbody tr th {\n",
       "        vertical-align: top;\n",
       "    }\n",
       "\n",
       "    .dataframe thead th {\n",
       "        text-align: right;\n",
       "    }\n",
       "</style>\n",
       "<table border=\"1\" class=\"dataframe\">\n",
       "  <thead>\n",
       "    <tr style=\"text-align: right;\">\n",
       "      <th></th>\n",
       "      <th>Respondent</th>\n",
       "      <th>MainBranch</th>\n",
       "      <th>Hobbyist</th>\n",
       "      <th>Age</th>\n",
       "      <th>Age1stCode</th>\n",
       "      <th>CompFreq</th>\n",
       "      <th>CompTotal</th>\n",
       "      <th>ConvertedComp</th>\n",
       "      <th>Country</th>\n",
       "      <th>CurrencyDesc</th>\n",
       "      <th>...</th>\n",
       "      <th>SurveyEase</th>\n",
       "      <th>SurveyLength</th>\n",
       "      <th>Trans</th>\n",
       "      <th>UndergradMajor</th>\n",
       "      <th>WebframeDesireNextYear</th>\n",
       "      <th>WebframeWorkedWith</th>\n",
       "      <th>WelcomeChange</th>\n",
       "      <th>WorkWeekHrs</th>\n",
       "      <th>YearsCode</th>\n",
       "      <th>YearsCodePro</th>\n",
       "    </tr>\n",
       "  </thead>\n",
       "  <tbody>\n",
       "    <tr>\n",
       "      <th>22</th>\n",
       "      <td>23</td>\n",
       "      <td>I am a developer by profession</td>\n",
       "      <td>Yes</td>\n",
       "      <td>27.0</td>\n",
       "      <td>14</td>\n",
       "      <td>0</td>\n",
       "      <td>0.0</td>\n",
       "      <td>0.0</td>\n",
       "      <td>Germany</td>\n",
       "      <td>European Euro</td>\n",
       "      <td>...</td>\n",
       "      <td>Easy</td>\n",
       "      <td>Appropriate in length</td>\n",
       "      <td>No</td>\n",
       "      <td>Another engineering discipline (such as civil,...</td>\n",
       "      <td>0</td>\n",
       "      <td>0</td>\n",
       "      <td>Somewhat less welcome now than last year</td>\n",
       "      <td>40.0</td>\n",
       "      <td>8</td>\n",
       "      <td>3</td>\n",
       "    </tr>\n",
       "  </tbody>\n",
       "</table>\n",
       "<p>1 rows × 61 columns</p>\n",
       "</div>"
      ],
      "text/plain": [
       "    Respondent                      MainBranch Hobbyist   Age Age1stCode  \\\n",
       "22          23  I am a developer by profession      Yes  27.0         14   \n",
       "\n",
       "   CompFreq  CompTotal  ConvertedComp  Country   CurrencyDesc  ... SurveyEase  \\\n",
       "22        0        0.0            0.0  Germany  European Euro  ...       Easy   \n",
       "\n",
       "             SurveyLength Trans  \\\n",
       "22  Appropriate in length    No   \n",
       "\n",
       "                                       UndergradMajor WebframeDesireNextYear  \\\n",
       "22  Another engineering discipline (such as civil,...                      0   \n",
       "\n",
       "   WebframeWorkedWith                             WelcomeChange WorkWeekHrs  \\\n",
       "22                  0  Somewhat less welcome now than last year        40.0   \n",
       "\n",
       "   YearsCode YearsCodePro  \n",
       "22         8            3  \n",
       "\n",
       "[1 rows x 61 columns]"
      ]
     },
     "execution_count": 12,
     "metadata": {},
     "output_type": "execute_result"
    }
   ],
   "source": [
    "df_dev_german=df[(df[\"MainBranch\"] == \"I am a developer by profession\") & (df[\"Country\"] == \"Germany\") & df[\"Age\"] != 0].copy()\n",
    "filtered_german=df_dev_german\n",
    "filtered_german.head(1)"
   ]
  },
  {
   "cell_type": "markdown",
   "id": "75d739fc",
   "metadata": {},
   "source": [
    "### Percentage of German developers who took the survey."
   ]
  },
  {
   "cell_type": "code",
   "execution_count": 13,
   "id": "05eb1511",
   "metadata": {},
   "outputs": [
    {
     "name": "stdout",
     "output_type": "stream",
     "text": [
      " The percentage of German developers who took the survey (inclusive of developers who did not provide their age) 4.46%.\n"
     ]
    }
   ],
   "source": [
    "print(f' The percentage of German developers who took the survey (inclusive of developers who did not provide their age) {round((len(filter_german)/len(df))*100,2)}%.')"
   ]
  },
  {
   "cell_type": "markdown",
   "id": "c02d14e4",
   "metadata": {},
   "source": [
    "### Developers who noticed a change on StackOverflow compared to last year\n",
    "\n",
    "Question from the Survey - Compared to last year, how welcome do you feel on Stack Overflow?\"\n"
   ]
  },
  {
   "cell_type": "code",
   "execution_count": 16,
   "id": "5ea4f733",
   "metadata": {},
   "outputs": [
    {
     "data": {
      "text/html": [
       "<div>\n",
       "<style scoped>\n",
       "    .dataframe tbody tr th:only-of-type {\n",
       "        vertical-align: middle;\n",
       "    }\n",
       "\n",
       "    .dataframe tbody tr th {\n",
       "        vertical-align: top;\n",
       "    }\n",
       "\n",
       "    .dataframe thead th {\n",
       "        text-align: right;\n",
       "    }\n",
       "</style>\n",
       "<table border=\"1\" class=\"dataframe\">\n",
       "  <thead>\n",
       "    <tr style=\"text-align: right;\">\n",
       "      <th></th>\n",
       "      <th>MainBranch</th>\n",
       "      <th>Hobbyist</th>\n",
       "      <th>Age</th>\n",
       "      <th>Age1stCode</th>\n",
       "      <th>DatabaseDesireNextYear</th>\n",
       "      <th>DatabaseWorkedWith</th>\n",
       "      <th>DevType</th>\n",
       "      <th>EdLevel</th>\n",
       "      <th>Employment</th>\n",
       "      <th>JobFactors</th>\n",
       "      <th>...</th>\n",
       "      <th>SOComm</th>\n",
       "      <th>SOPartFreq</th>\n",
       "      <th>SOVisitFreq</th>\n",
       "      <th>UndergradMajor</th>\n",
       "      <th>WebframeDesireNextYear</th>\n",
       "      <th>WebframeWorkedWith</th>\n",
       "      <th>WelcomeChange</th>\n",
       "      <th>WorkWeekHrs</th>\n",
       "      <th>YearsCode</th>\n",
       "      <th>YearsCodePro</th>\n",
       "    </tr>\n",
       "  </thead>\n",
       "  <tbody>\n",
       "    <tr>\n",
       "      <th>0</th>\n",
       "      <td>I am a developer by profession</td>\n",
       "      <td>Yes</td>\n",
       "      <td>0.0</td>\n",
       "      <td>13</td>\n",
       "      <td>Microsoft SQL Server</td>\n",
       "      <td>Elasticsearch;Microsoft SQL Server;Oracle</td>\n",
       "      <td>Developer, desktop or enterprise applications;...</td>\n",
       "      <td>Master’s degree (M.A., M.S., M.Eng., MBA, etc.)</td>\n",
       "      <td>Independent contractor, freelancer, or self-em...</td>\n",
       "      <td>Languages, frameworks, and other technologies ...</td>\n",
       "      <td>...</td>\n",
       "      <td>No, not at all</td>\n",
       "      <td>0</td>\n",
       "      <td>Multiple times per day</td>\n",
       "      <td>Computer science, computer engineering, or sof...</td>\n",
       "      <td>ASP.NET Core</td>\n",
       "      <td>ASP.NET;ASP.NET Core</td>\n",
       "      <td>Just as welcome now as I felt last year</td>\n",
       "      <td>50.0</td>\n",
       "      <td>36</td>\n",
       "      <td>27</td>\n",
       "    </tr>\n",
       "  </tbody>\n",
       "</table>\n",
       "<p>1 rows × 46 columns</p>\n",
       "</div>"
      ],
      "text/plain": [
       "                       MainBranch Hobbyist  Age Age1stCode  \\\n",
       "0  I am a developer by profession      Yes  0.0         13   \n",
       "\n",
       "  DatabaseDesireNextYear                         DatabaseWorkedWith  \\\n",
       "0   Microsoft SQL Server  Elasticsearch;Microsoft SQL Server;Oracle   \n",
       "\n",
       "                                             DevType  \\\n",
       "0  Developer, desktop or enterprise applications;...   \n",
       "\n",
       "                                           EdLevel  \\\n",
       "0  Master’s degree (M.A., M.S., M.Eng., MBA, etc.)   \n",
       "\n",
       "                                          Employment  \\\n",
       "0  Independent contractor, freelancer, or self-em...   \n",
       "\n",
       "                                          JobFactors  ...          SOComm  \\\n",
       "0  Languages, frameworks, and other technologies ...  ...  No, not at all   \n",
       "\n",
       "  SOPartFreq             SOVisitFreq  \\\n",
       "0          0  Multiple times per day   \n",
       "\n",
       "                                      UndergradMajor WebframeDesireNextYear  \\\n",
       "0  Computer science, computer engineering, or sof...           ASP.NET Core   \n",
       "\n",
       "     WebframeWorkedWith                            WelcomeChange WorkWeekHrs  \\\n",
       "0  ASP.NET;ASP.NET Core  Just as welcome now as I felt last year        50.0   \n",
       "\n",
       "  YearsCode YearsCodePro  \n",
       "0        36           27  \n",
       "\n",
       "[1 rows x 46 columns]"
      ]
     },
     "execution_count": 16,
     "metadata": {},
     "output_type": "execute_result"
    }
   ],
   "source": [
    "filter_change=filter_german[['MainBranch', 'Hobbyist', 'Age', 'Age1stCode', 'DatabaseDesireNextYear', 'DatabaseWorkedWith',\n",
    "       'DevType', 'EdLevel', 'Employment', 'JobFactors',\n",
    "       'JobSat', 'JobSeek', 'LanguageDesireNextYear', 'LanguageWorkedWith',\n",
    "       'MiscTechDesireNextYear', 'MiscTechWorkedWith',\n",
    "       'NEWCollabToolsDesireNextYear', 'NEWCollabToolsWorkedWith', 'NEWDevOps',\n",
    "       'NEWJobHunt', 'NEWJobHuntResearch',\n",
    "       'NEWLearn', 'NEWOffTopic', 'NEWOnboardGood', 'NEWOtherComms',\n",
    "       'NEWOvertime', 'NEWPurchaseResearch', 'NEWPurpleLink', 'NEWSOSites',\n",
    "       'NEWStuck', 'OpSys', 'OrgSize', 'PlatformDesireNextYear',\n",
    "       'PlatformWorkedWith', 'PurchaseWhat', 'SOAccount',\n",
    "       'SOComm', 'SOPartFreq', 'SOVisitFreq', 'UndergradMajor', 'WebframeDesireNextYear',\n",
    "       'WebframeWorkedWith', 'WelcomeChange', 'WorkWeekHrs', 'YearsCode',\n",
    "       'YearsCodePro']]\n",
    "filter_change.head(1)"
   ]
  },
  {
   "cell_type": "code",
   "execution_count": 17,
   "id": "be1589ab",
   "metadata": {},
   "outputs": [
    {
     "data": {
      "text/plain": [
       "array(['Just as welcome now as I felt last year', 0,\n",
       "       'Somewhat less welcome now than last year',\n",
       "       'Somewhat more welcome now than last year',\n",
       "       'A lot more welcome now than last year',\n",
       "       'A lot less welcome now than last year',\n",
       "       'Not applicable - I did not use Stack Overflow last year'],\n",
       "      dtype=object)"
      ]
     },
     "execution_count": 17,
     "metadata": {},
     "output_type": "execute_result"
    }
   ],
   "source": [
    "filter_change.WelcomeChange.unique()"
   ]
  },
  {
   "cell_type": "code",
   "execution_count": 18,
   "id": "91b16abe",
   "metadata": {},
   "outputs": [
    {
     "data": {
      "text/plain": [
       "<AxesSubplot:ylabel='WelcomeChange'>"
      ]
     },
     "execution_count": 18,
     "metadata": {},
     "output_type": "execute_result"
    },
    {
     "data": {
      "image/png": "[encoded data removed]",
      "text/plain": [
       "<Figure size 1000x1000 with 1 Axes>"
      ]
     },
     "metadata": {},
     "output_type": "display_data"
    }
   ],
   "source": [
    "from matplotlib.pyplot import figure\n",
    "figure(figsize=(20,20), dpi=50)\n",
    "\n",
    "\n",
    "filter_change.WelcomeChange.value_counts().plot(kind='pie',autopct='%1.1f%%',textprops={'fontsize': 20})"
   ]
  },
  {
   "cell_type": "code",
   "execution_count": 11,
   "id": "b37033af",
   "metadata": {},
   "outputs": [
    {
     "data": {
      "text/plain": [
       "Just as welcome now as I felt last year                    2005\n",
       "0                                                           331\n",
       "Somewhat less welcome now than last year                    187\n",
       "Somewhat more welcome now than last year                    145\n",
       "A lot less welcome now than last year                        98\n",
       "Not applicable - I did not use Stack Overflow last year      68\n",
       "A lot more welcome now than last year                        43\n",
       "Name: WelcomeChange, dtype: int64"
      ]
     },
     "execution_count": 11,
     "metadata": {},
     "output_type": "execute_result"
    }
   ],
   "source": [
    "filter_change.WelcomeChange.value_counts()"
   ]
  },
  {
   "cell_type": "markdown",
   "id": "5f78a604",
   "metadata": {},
   "source": [
    "Note that 11.5% did not provide an answer to the question or the data is missing. Information of 331 developers is not provided.\n",
    "\n",
    "In the survey, 331 developers out of 2,877 German developers do not have an information about how they felt returning to StackOverflow."
   ]
  },
  {
   "cell_type": "markdown",
   "id": "b7189c5b",
   "metadata": {},
   "source": [
    "### Concerning the Survey participation, what was their reaction to it"
   ]
  },
  {
   "cell_type": "code",
   "execution_count": 13,
   "id": "655d68ec",
   "metadata": {},
   "outputs": [
    {
     "data": {
      "text/plain": [
       "Easy                          1785\n",
       "Neither easy nor difficult     725\n",
       "0                              350\n",
       "Difficult                       17\n",
       "Name: SurveyEase, dtype: int64"
      ]
     },
     "execution_count": 13,
     "metadata": {},
     "output_type": "execute_result"
    }
   ],
   "source": [
    "filter_german.SurveyEase.value_counts()"
   ]
  },
  {
   "cell_type": "markdown",
   "id": "2c42aad2",
   "metadata": {},
   "source": [
    "The number of German developers by profession from the given data had the opinion as follows:\n",
    "- 1785 developers chose \"Easy\".\n",
    "- 725 developers chose \"Neither easy nor difficult\"\n",
    "- 350 developers did not select or omitted answering the question (12.2%).\n",
    "- 17 found it difficult."
   ]
  },
  {
   "cell_type": "code",
   "execution_count": 19,
   "id": "c85a57b0",
   "metadata": {},
   "outputs": [
    {
     "data": {
      "text/plain": [
       "<AxesSubplot:ylabel='SurveyEase'>"
      ]
     },
     "execution_count": 19,
     "metadata": {},
     "output_type": "execute_result"
    },
    {
     "data": {
      "image/png": "[encoded data removed]",
      "text/plain": [
       "<Figure size 750x1250 with 1 Axes>"
      ]
     },
     "metadata": {},
     "output_type": "display_data"
    }
   ],
   "source": [
    "from matplotlib.pyplot import figure\n",
    "figure(figsize=(15,25), dpi=50)\n",
    "\n",
    "\n",
    "filter_german.SurveyEase.value_counts().plot(kind='pie',autopct='%1.1f%%',textprops={'fontsize': 20})\n",
    "\n",
    "#df['SurveyEase'].unique()"
   ]
  },
  {
   "cell_type": "markdown",
   "id": "ed6bbdda",
   "metadata": {},
   "source": [
    "### Ploting the Age distribution"
   ]
  },
  {
   "cell_type": "markdown",
   "id": "373a51df",
   "metadata": {},
   "source": [
    "#### Violin graph without filtering the Age which is zero"
   ]
  },
  {
   "cell_type": "code",
   "execution_count": 20,
   "id": "6d9483f3",
   "metadata": {},
   "outputs": [
    {
     "data": {
      "image/png": "[encoded data removed]",
      "text/plain": [
       "<Figure size 432x288 with 1 Axes>"
      ]
     },
     "metadata": {
      "needs_background": "light"
     },
     "output_type": "display_data"
    }
   ],
   "source": [
    "#ax=sns.violinplot(x=filter_german['Age'], inner=\"box\")\n",
    "axx=sns.violinplot(y=filter_german['Age'], inner=\"box\")"
   ]
  },
  {
   "cell_type": "markdown",
   "id": "6c80b5b2",
   "metadata": {},
   "source": [
    "#### Violin graph with filtered Age value != 0"
   ]
  },
  {
   "cell_type": "code",
   "execution_count": 34,
   "id": "976a32f4",
   "metadata": {},
   "outputs": [
    {
     "data": {
      "image/png": "[encoded data removed]",
      "text/plain": [
       "<Figure size 720x576 with 1 Axes>"
      ]
     },
     "metadata": {
      "needs_background": "light"
     },
     "output_type": "display_data"
    }
   ],
   "source": [
    "from matplotlib import pyplot as plt\n",
    "import seaborn as sns\n",
    "\n",
    "plt.figure(figsize=(10,8))\n",
    "\n",
    "\n",
    "ax1=sns.violinplot(x=filtered_german['MainBranch'],y=filtered_german['Age'], inner=\"box\", width=0.8)"
   ]
  },
  {
   "cell_type": "code",
   "execution_count": 36,
   "id": "04b9cc47",
   "metadata": {},
   "outputs": [
    {
     "data": {
      "text/plain": [
       "<AxesSubplot:xlabel='MainBranch', ylabel='Age'>"
      ]
     },
     "execution_count": 36,
     "metadata": {},
     "output_type": "execute_result"
    },
    {
     "data": {
      "image/png": "[encoded data removed]",
      "text/plain": [
       "<Figure size 720x576 with 1 Axes>"
      ]
     },
     "metadata": {
      "needs_background": "light"
     },
     "output_type": "display_data"
    }
   ],
   "source": [
    "from matplotlib import pyplot as plt\n",
    "import seaborn as sns\n",
    "\n",
    "plt.figure(figsize=(10,8))\n",
    "\n",
    "axee = sns.violinplot(data=filtered_german, x=filtered_german['MainBranch'], y=filtered_german['Age'], palette='turbo',\n",
    "                    inner=None, linewidth=0, saturation=0.4)\n",
    "sns.boxplot(x=filtered_german['MainBranch'], y=filtered_german['Age'], data=filtered_german, palette='turbo', width=0.3,\n",
    "            boxprops={'zorder': 2}, ax=axee)"
   ]
  },
  {
   "cell_type": "code",
   "execution_count": 37,
   "id": "8d01134c",
   "metadata": {},
   "outputs": [
    {
     "name": "stdout",
     "output_type": "stream",
     "text": [
      "The average age of German developers is 32 years.\n"
     ]
    }
   ],
   "source": [
    "print(f'The average age of German developers is {round(filtered_german.Age.mean())} years.')"
   ]
  },
  {
   "cell_type": "markdown",
   "id": "c60e5014",
   "metadata": {},
   "source": [
    "#### Would the age matter if the omitted or missing data was present?"
   ]
  },
  {
   "cell_type": "code",
   "execution_count": 38,
   "id": "71c9d01f",
   "metadata": {},
   "outputs": [
    {
     "name": "stdout",
     "output_type": "stream",
     "text": [
      " The percentage of developers who provided their age 80.74%\n"
     ]
    }
   ],
   "source": [
    "print(f' The percentage of developers who provided their age {round((1-(filter_german[filter_german.Age == 0].shape[0])/len(filter_german))*100,2)}%')"
   ]
  },
  {
   "cell_type": "code",
   "execution_count": 39,
   "id": "b92acbe7",
   "metadata": {},
   "outputs": [
    {
     "name": "stdout",
     "output_type": "stream",
     "text": [
      " The number of missing age in the survey is 554.\n"
     ]
    }
   ],
   "source": [
    "print(f' The number of missing age in the survey is {filter_german[filter_german.Age == 0].shape[0]}.')"
   ]
  },
  {
   "cell_type": "code",
   "execution_count": 40,
   "id": "6bc3140d",
   "metadata": {},
   "outputs": [
    {
     "name": "stdout",
     "output_type": "stream",
     "text": [
      " The number of missing age in the survey is 19.26%.\n"
     ]
    }
   ],
   "source": [
    "print(f' The number of missing age in the survey is {(round((filter_german[filter_german.Age == 0].shape[0])/len(filter_german)*100,2))}%.')"
   ]
  },
  {
   "cell_type": "code",
   "execution_count": 42,
   "id": "9b9d5e1c",
   "metadata": {},
   "outputs": [
    {
     "data": {
      "text/plain": [
       "(28.75, 34.5]    738\n",
       "(-0.07, 5.75]    554\n",
       "(23.0, 28.75]    547\n",
       "(34.5, 40.25]    428\n",
       "(17.25, 23.0]    292\n",
       "(40.25, 46.0]    166\n",
       "(46.0, 51.75]     77\n",
       "(51.75, 57.5]     48\n",
       "(57.5, 63.25]     17\n",
       "(11.5, 17.25]      8\n",
       "(63.25, 69.0]      2\n",
       "(5.75, 11.5]       0\n",
       "Name: Age, dtype: int64"
      ]
     },
     "execution_count": 42,
     "metadata": {},
     "output_type": "execute_result"
    }
   ],
   "source": [
    "filter_german['Age'].value_counts(bins=12)"
   ]
  },
  {
   "cell_type": "markdown",
   "id": "81d40bf8",
   "metadata": {},
   "source": [
    "#### Conclusion:\n",
    "    \n",
    "- If age is essential irrespective of 554 missing data then my suggestion would be targetting German developers in the age range of 20 to 45 years. "
   ]
  },
  {
   "cell_type": "markdown",
   "id": "15f05419",
   "metadata": {},
   "source": [
    "### What is their Education level?"
   ]
  },
  {
   "cell_type": "code",
   "execution_count": 43,
   "id": "e348d69c",
   "metadata": {},
   "outputs": [
    {
     "data": {
      "text/plain": [
       "array(['Master’s degree (M.A., M.S., M.Eng., MBA, etc.)',\n",
       "       'Secondary school (e.g. American high school, German Realschule or Gymnasium, etc.)',\n",
       "       'Bachelor’s degree (B.A., B.S., B.Eng., etc.)',\n",
       "       'Professional degree (JD, MD, etc.)',\n",
       "       'Associate degree (A.A., A.S., etc.)',\n",
       "       'Some college/university study without earning a degree',\n",
       "       'Other doctoral degree (Ph.D., Ed.D., etc.)', 0,\n",
       "       'Primary/elementary school',\n",
       "       'I never completed any formal education'], dtype=object)"
      ]
     },
     "execution_count": 43,
     "metadata": {},
     "output_type": "execute_result"
    }
   ],
   "source": [
    "#filter_german.EdLevel.nunique()\n",
    "filter_german.EdLevel.unique()"
   ]
  },
  {
   "cell_type": "code",
   "execution_count": 44,
   "id": "4c7dfbfb",
   "metadata": {},
   "outputs": [],
   "source": [
    "filter_german['Education']=filter_german['EdLevel'].map({'Master’s degree (M.A., M.S., M.Eng., MBA, etc.)': 'Masters',\n",
    "    'Secondary school (e.g. American high school, German Realschule or Gymnasium, etc.)':'Secondary school',\n",
    "    'Bachelor’s degree (B.A., B.S., B.Eng., etc.)':'Bachelors',\n",
    "    'Professional degree (JD, MD, etc.)':'Professional degree',\n",
    "    'Associate degree (A.A., A.S., etc.)': 'Associate degree',\n",
    "    'Some college/university study without earning a degree':'Study but no degree',\n",
    "    'Other doctoral degree (Ph.D., Ed.D., etc.)':'Doctoral degree',\n",
    "    '0':0,\n",
    "    'Primary/elementary school':'Elementary school',\n",
    "    'I never completed any formal education':'Never Completed'})"
   ]
  },
  {
   "cell_type": "markdown",
   "id": "a208afc2",
   "metadata": {},
   "source": [
    "### Number of German Developers with their education level"
   ]
  },
  {
   "cell_type": "code",
   "execution_count": 46,
   "id": "d69bb76c",
   "metadata": {},
   "outputs": [
    {
     "data": {
      "text/plain": [
       "Masters                965\n",
       "Bachelors              840\n",
       "Study but no degree    311\n",
       "Secondary school       308\n",
       "Doctoral degree        110\n",
       "Associate degree        80\n",
       "Professional degree     40\n",
       "Never Completed          6\n",
       "Elementary school        5\n",
       "Name: Education, dtype: int64"
      ]
     },
     "execution_count": 46,
     "metadata": {},
     "output_type": "execute_result"
    }
   ],
   "source": [
    "filter_german.Education.value_counts()"
   ]
  },
  {
   "cell_type": "code",
   "execution_count": 47,
   "id": "358ed6ed",
   "metadata": {},
   "outputs": [
    {
     "data": {
      "text/plain": [
       "0    Masters\n",
       "dtype: object"
      ]
     },
     "execution_count": 47,
     "metadata": {},
     "output_type": "execute_result"
    }
   ],
   "source": [
    "filter_german.Education.mode()"
   ]
  },
  {
   "cell_type": "code",
   "execution_count": 48,
   "id": "3a2bc0a2",
   "metadata": {},
   "outputs": [
    {
     "data": {
      "text/plain": [
       "array(['Independent contractor, freelancer, or self-employed',\n",
       "       'Employed full-time', 'Not employed, but looking for work',\n",
       "       'Employed part-time', 'Student', 0,\n",
       "       'Not employed, and not looking for work'], dtype=object)"
      ]
     },
     "execution_count": 48,
     "metadata": {},
     "output_type": "execute_result"
    }
   ],
   "source": [
    "#filter_german.Employment.nunique()\n",
    "filter_german.Employment.unique()"
   ]
  },
  {
   "cell_type": "code",
   "execution_count": 49,
   "id": "0a7feb6c",
   "metadata": {},
   "outputs": [
    {
     "data": {
      "text/plain": [
       "array(['No', 'Yes', 0, \"Not sure/can't remember\"], dtype=object)"
      ]
     },
     "execution_count": 49,
     "metadata": {},
     "output_type": "execute_result"
    }
   ],
   "source": [
    "filter_german.SOAccount.unique()"
   ]
  },
  {
   "cell_type": "markdown",
   "id": "17d5bef2",
   "metadata": {},
   "source": [
    "### Data Acquisition\n",
    "\n",
    "Convert string to number using JobSat."
   ]
  },
  {
   "cell_type": "markdown",
   "id": "ac1a2580",
   "metadata": {},
   "source": [
    "### What drives a developer to look for a new job and how satisfied are the developers with their job?\n"
   ]
  },
  {
   "cell_type": "code",
   "execution_count": 63,
   "id": "3032c44e",
   "metadata": {},
   "outputs": [
    {
     "data": {
      "text/plain": [
       "array(['Slightly satisfied', 'Very satisfied', 0, 'Slightly dissatisfied',\n",
       "       'Very dissatisfied', 'Neither satisfied nor dissatisfied'],\n",
       "      dtype=object)"
      ]
     },
     "execution_count": 63,
     "metadata": {},
     "output_type": "execute_result"
    }
   ],
   "source": [
    "filter_german.JobSat.unique()"
   ]
  },
  {
   "cell_type": "code",
   "execution_count": 64,
   "id": "2349c6e4",
   "metadata": {},
   "outputs": [
    {
     "data": {
      "text/html": [
       "<div>\n",
       "<style scoped>\n",
       "    .dataframe tbody tr th:only-of-type {\n",
       "        vertical-align: middle;\n",
       "    }\n",
       "\n",
       "    .dataframe tbody tr th {\n",
       "        vertical-align: top;\n",
       "    }\n",
       "\n",
       "    .dataframe thead th {\n",
       "        text-align: right;\n",
       "    }\n",
       "</style>\n",
       "<table border=\"1\" class=\"dataframe\">\n",
       "  <thead>\n",
       "    <tr style=\"text-align: right;\">\n",
       "      <th></th>\n",
       "      <th>Respondent</th>\n",
       "      <th>MainBranch</th>\n",
       "      <th>Hobbyist</th>\n",
       "      <th>Age</th>\n",
       "      <th>Age1stCode</th>\n",
       "      <th>CompFreq</th>\n",
       "      <th>CompTotal</th>\n",
       "      <th>ConvertedComp</th>\n",
       "      <th>Country</th>\n",
       "      <th>CurrencyDesc</th>\n",
       "      <th>...</th>\n",
       "      <th>Trans</th>\n",
       "      <th>UndergradMajor</th>\n",
       "      <th>WebframeDesireNextYear</th>\n",
       "      <th>WebframeWorkedWith</th>\n",
       "      <th>WelcomeChange</th>\n",
       "      <th>WorkWeekHrs</th>\n",
       "      <th>YearsCode</th>\n",
       "      <th>YearsCodePro</th>\n",
       "      <th>Education</th>\n",
       "      <th>JobSatNum</th>\n",
       "    </tr>\n",
       "  </thead>\n",
       "  <tbody>\n",
       "    <tr>\n",
       "      <th>0</th>\n",
       "      <td>1</td>\n",
       "      <td>I am a developer by profession</td>\n",
       "      <td>Yes</td>\n",
       "      <td>0.0</td>\n",
       "      <td>13</td>\n",
       "      <td>Monthly</td>\n",
       "      <td>0.0</td>\n",
       "      <td>0.0</td>\n",
       "      <td>Germany</td>\n",
       "      <td>European Euro</td>\n",
       "      <td>...</td>\n",
       "      <td>No</td>\n",
       "      <td>Computer science, computer engineering, or sof...</td>\n",
       "      <td>ASP.NET Core</td>\n",
       "      <td>ASP.NET;ASP.NET Core</td>\n",
       "      <td>Just as welcome now as I felt last year</td>\n",
       "      <td>50.0</td>\n",
       "      <td>36</td>\n",
       "      <td>27</td>\n",
       "      <td>Masters</td>\n",
       "      <td>4</td>\n",
       "    </tr>\n",
       "    <tr>\n",
       "      <th>5</th>\n",
       "      <td>6</td>\n",
       "      <td>I am a developer by profession</td>\n",
       "      <td>No</td>\n",
       "      <td>0.0</td>\n",
       "      <td>14</td>\n",
       "      <td>0</td>\n",
       "      <td>0.0</td>\n",
       "      <td>0.0</td>\n",
       "      <td>Germany</td>\n",
       "      <td>European Euro</td>\n",
       "      <td>...</td>\n",
       "      <td>0</td>\n",
       "      <td>0</td>\n",
       "      <td>React.js</td>\n",
       "      <td>0</td>\n",
       "      <td>0</td>\n",
       "      <td>0.0</td>\n",
       "      <td>6</td>\n",
       "      <td>4</td>\n",
       "      <td>Secondary school</td>\n",
       "      <td>4</td>\n",
       "    </tr>\n",
       "  </tbody>\n",
       "</table>\n",
       "<p>2 rows × 63 columns</p>\n",
       "</div>"
      ],
      "text/plain": [
       "   Respondent                      MainBranch Hobbyist  Age Age1stCode  \\\n",
       "0           1  I am a developer by profession      Yes  0.0         13   \n",
       "5           6  I am a developer by profession       No  0.0         14   \n",
       "\n",
       "  CompFreq  CompTotal  ConvertedComp  Country   CurrencyDesc  ... Trans  \\\n",
       "0  Monthly        0.0            0.0  Germany  European Euro  ...    No   \n",
       "5        0        0.0            0.0  Germany  European Euro  ...     0   \n",
       "\n",
       "                                      UndergradMajor WebframeDesireNextYear  \\\n",
       "0  Computer science, computer engineering, or sof...           ASP.NET Core   \n",
       "5                                                  0               React.js   \n",
       "\n",
       "     WebframeWorkedWith                            WelcomeChange WorkWeekHrs  \\\n",
       "0  ASP.NET;ASP.NET Core  Just as welcome now as I felt last year        50.0   \n",
       "5                     0                                        0         0.0   \n",
       "\n",
       "  YearsCode YearsCodePro         Education JobSatNum  \n",
       "0        36           27           Masters         4  \n",
       "5         6            4  Secondary school         4  \n",
       "\n",
       "[2 rows x 63 columns]"
      ]
     },
     "execution_count": 64,
     "metadata": {},
     "output_type": "execute_result"
    }
   ],
   "source": [
    "filter_german['JobSatNum']=filter_german['JobSat'].map({'Slightly satisfied':4, 'Very satisfied':5, 0:0, 'Slightly dissatisfied':2,\n",
    "       'Very dissatisfied':1, 'Neither satisfied nor dissatisfied':3})\n",
    "filter_german.head(2)"
   ]
  },
  {
   "cell_type": "code",
   "execution_count": 65,
   "id": "c4b3634e",
   "metadata": {},
   "outputs": [
    {
     "name": "stdout",
     "output_type": "stream",
     "text": [
      " There are 723 reasons why a developer would hunt for a new job. This is much and is best to use another parameter.\n"
     ]
    }
   ],
   "source": [
    "print(f' There are {filter_german.NEWJobHunt.nunique()} reasons why a developer would hunt for a new job. This is much and is best to use another parameter.')"
   ]
  },
  {
   "cell_type": "code",
   "execution_count": 66,
   "id": "2545c019",
   "metadata": {},
   "outputs": [
    {
     "data": {
      "text/html": [
       "<div>\n",
       "<style scoped>\n",
       "    .dataframe tbody tr th:only-of-type {\n",
       "        vertical-align: middle;\n",
       "    }\n",
       "\n",
       "    .dataframe tbody tr th {\n",
       "        vertical-align: top;\n",
       "    }\n",
       "\n",
       "    .dataframe thead th {\n",
       "        text-align: right;\n",
       "    }\n",
       "</style>\n",
       "<table border=\"1\" class=\"dataframe\">\n",
       "  <thead>\n",
       "    <tr style=\"text-align: right;\">\n",
       "      <th></th>\n",
       "      <th>Employment</th>\n",
       "      <th>JobSatNum</th>\n",
       "    </tr>\n",
       "  </thead>\n",
       "  <tbody>\n",
       "    <tr>\n",
       "      <th>0</th>\n",
       "      <td>Independent contractor, freelancer, or self-em...</td>\n",
       "      <td>4</td>\n",
       "    </tr>\n",
       "    <tr>\n",
       "      <th>5</th>\n",
       "      <td>Employed full-time</td>\n",
       "      <td>4</td>\n",
       "    </tr>\n",
       "  </tbody>\n",
       "</table>\n",
       "</div>"
      ],
      "text/plain": [
       "                                          Employment  JobSatNum\n",
       "0  Independent contractor, freelancer, or self-em...          4\n",
       "5                                 Employed full-time          4"
      ]
     },
     "execution_count": 66,
     "metadata": {},
     "output_type": "execute_result"
    }
   ],
   "source": [
    "employ_jobsat=filter_german[(['Employment','JobSatNum'])]\n",
    "#employ_jobsat=employ_jobsat.query('JobSatNum'!=0)\n",
    "employ_jobsat.head(2)"
   ]
  },
  {
   "cell_type": "code",
   "execution_count": 67,
   "id": "5b3bb7c8",
   "metadata": {},
   "outputs": [
    {
     "name": "stdout",
     "output_type": "stream",
     "text": [
      " The number of developers who provided their job satisfaction answers are 2572.\n"
     ]
    }
   ],
   "source": [
    "employ_jobsat1=employ_jobsat[(employ_jobsat[\"Employment\"] != 0) & (employ_jobsat[\"JobSatNum\"] != 0)].copy()\n",
    "employ_jobsat1.head()\n",
    "employ_jobsat1.shape\n",
    "print(f' The number of developers who provided their job satisfaction answers are {employ_jobsat1.shape[0]}.')"
   ]
  },
  {
   "cell_type": "code",
   "execution_count": 68,
   "id": "4788a16b",
   "metadata": {},
   "outputs": [
    {
     "name": "stdout",
     "output_type": "stream",
     "text": [
      " The number of developers who did not provide their job satisfaction answers are 298.\n"
     ]
    }
   ],
   "source": [
    "employ_jobsat0=employ_jobsat[(employ_jobsat[\"Employment\"] != 0) & (employ_jobsat[\"JobSatNum\"] == 0)].copy()\n",
    "employ_jobsat0.head()\n",
    "employ_jobsat0.shape\n",
    "print(f' The number of developers who did not provide their job satisfaction answers are {employ_jobsat0.shape[0]}.')"
   ]
  },
  {
   "cell_type": "code",
   "execution_count": 69,
   "id": "90cd3108",
   "metadata": {},
   "outputs": [
    {
     "data": {
      "text/plain": [
       "<AxesSubplot:xlabel='JobSatNum', ylabel='Employment'>"
      ]
     },
     "execution_count": 69,
     "metadata": {},
     "output_type": "execute_result"
    },
    {
     "data": {
      "image/png": "[encoded data removed]",
      "text/plain": [
       "<Figure size 432x288 with 1 Axes>"
      ]
     },
     "metadata": {
      "needs_background": "light"
     },
     "output_type": "display_data"
    }
   ],
   "source": [
    "sns.histplot(data=employ_jobsat1, y='Employment', x='JobSatNum')"
   ]
  },
  {
   "cell_type": "code",
   "execution_count": 70,
   "id": "76ddb448",
   "metadata": {},
   "outputs": [
    {
     "data": {
      "image/png": "[encoded data removed]",
      "text/plain": [
       "<Figure size 432x288 with 1 Axes>"
      ]
     },
     "metadata": {
      "needs_background": "light"
     },
     "output_type": "display_data"
    }
   ],
   "source": [
    "ax_employ = sns.violinplot(x=\"JobSatNum\", y=\"Employment\", data=employ_jobsat1)"
   ]
  },
  {
   "cell_type": "markdown",
   "id": "2787a5c8",
   "metadata": {},
   "source": [
    "#### Conclusion\n",
    "\n",
    "From the Violin plot, the following was gathered:\n",
    "- Employed full-time: In the survey, developers who are employed full time "
   ]
  },
  {
   "cell_type": "code",
   "execution_count": 71,
   "id": "8befb45b",
   "metadata": {},
   "outputs": [
    {
     "data": {
      "text/html": [
       "<div>\n",
       "<style scoped>\n",
       "    .dataframe tbody tr th:only-of-type {\n",
       "        vertical-align: middle;\n",
       "    }\n",
       "\n",
       "    .dataframe tbody tr th {\n",
       "        vertical-align: top;\n",
       "    }\n",
       "\n",
       "    .dataframe thead th {\n",
       "        text-align: right;\n",
       "    }\n",
       "</style>\n",
       "<table border=\"1\" class=\"dataframe\">\n",
       "  <thead>\n",
       "    <tr style=\"text-align: right;\">\n",
       "      <th></th>\n",
       "      <th>JobSat</th>\n",
       "      <th>JobSatNum</th>\n",
       "    </tr>\n",
       "  </thead>\n",
       "  <tbody>\n",
       "    <tr>\n",
       "      <th>0</th>\n",
       "      <td>Slightly satisfied</td>\n",
       "      <td>4</td>\n",
       "    </tr>\n",
       "    <tr>\n",
       "      <th>5</th>\n",
       "      <td>Slightly satisfied</td>\n",
       "      <td>4</td>\n",
       "    </tr>\n",
       "  </tbody>\n",
       "</table>\n",
       "</div>"
      ],
      "text/plain": [
       "               JobSat  JobSatNum\n",
       "0  Slightly satisfied          4\n",
       "5  Slightly satisfied          4"
      ]
     },
     "execution_count": 71,
     "metadata": {},
     "output_type": "execute_result"
    }
   ],
   "source": [
    "job_satnum=filter_german[['JobSat','JobSatNum']]\n",
    "job_satnum.head(2)"
   ]
  },
  {
   "cell_type": "code",
   "execution_count": 73,
   "id": "773fe1bc",
   "metadata": {},
   "outputs": [
    {
     "data": {
      "text/plain": [
       "Employed full-time                                      2175\n",
       "Independent contractor, freelancer, or self-employed     212\n",
       "Employed part-time                                       185\n",
       "Name: Employment, dtype: int64"
      ]
     },
     "execution_count": 73,
     "metadata": {},
     "output_type": "execute_result"
    }
   ],
   "source": [
    "employ_jobsat1.Employment.value_counts()"
   ]
  },
  {
   "cell_type": "code",
   "execution_count": 74,
   "id": "21613de7",
   "metadata": {},
   "outputs": [
    {
     "data": {
      "text/plain": [
       "Employment          JobSatNum\n",
       "Employed full-time  5            737\n",
       "                    4            661\n",
       "                    2            375\n",
       "                    3            246\n",
       "                    1            156\n",
       "dtype: int64"
      ]
     },
     "execution_count": 74,
     "metadata": {},
     "output_type": "execute_result"
    }
   ],
   "source": [
    "employ_fulltime=employ_jobsat1[(employ_jobsat1['Employment']=='Employed full-time')]\n",
    "employ_fulltime.value_counts()\n"
   ]
  },
  {
   "cell_type": "code",
   "execution_count": 76,
   "id": "9ac86984",
   "metadata": {},
   "outputs": [
    {
     "name": "stdout",
     "output_type": "stream",
     "text": [
      " The developers who work full-time and are very satisfied with their job is 737 out of 2175.\n"
     ]
    }
   ],
   "source": [
    "print(f' The developers who work full-time and are very satisfied with their job is 737 out of {len(employ_fulltime)}.')"
   ]
  },
  {
   "cell_type": "code",
   "execution_count": 77,
   "id": "4e9d8004",
   "metadata": {},
   "outputs": [
    {
     "data": {
      "text/plain": [
       "Employment                                            JobSatNum\n",
       "Independent contractor, freelancer, or self-employed  5            98\n",
       "                                                      4            51\n",
       "                                                      3            25\n",
       "                                                      1            19\n",
       "                                                      2            19\n",
       "dtype: int64"
      ]
     },
     "execution_count": 77,
     "metadata": {},
     "output_type": "execute_result"
    }
   ],
   "source": [
    "employ_indep=employ_jobsat1[(employ_jobsat1['Employment']=='Independent contractor, freelancer, or self-employed')]\n",
    "employ_indep.value_counts()"
   ]
  },
  {
   "cell_type": "code",
   "execution_count": 79,
   "id": "db179909",
   "metadata": {},
   "outputs": [
    {
     "name": "stdout",
     "output_type": "stream",
     "text": [
      " The developers who are either an independent contractor, freelancer, or self-employed and are very satisfied with their job is 98 out of 212.\n"
     ]
    }
   ],
   "source": [
    "print(f' The developers who are either an independent contractor, freelancer, or self-employed and are very satisfied with their job is 98 out of {len(employ_indep)}.')"
   ]
  },
  {
   "cell_type": "code",
   "execution_count": 80,
   "id": "ed53c691",
   "metadata": {},
   "outputs": [
    {
     "data": {
      "text/plain": [
       "Employment          JobSatNum\n",
       "Employed part-time  4            67\n",
       "                    5            49\n",
       "                    2            33\n",
       "                    3            24\n",
       "                    1            12\n",
       "dtype: int64"
      ]
     },
     "execution_count": 80,
     "metadata": {},
     "output_type": "execute_result"
    }
   ],
   "source": [
    "employ_parttime=employ_jobsat1[(employ_jobsat1['Employment']=='Employed part-time')]\n",
    "employ_parttime.value_counts()"
   ]
  },
  {
   "cell_type": "code",
   "execution_count": 81,
   "id": "6b2781a9",
   "metadata": {},
   "outputs": [
    {
     "name": "stdout",
     "output_type": "stream",
     "text": [
      " The percentage of Developers who work part-time and are slightly satisfied with their job is 67 out of 185.\n"
     ]
    }
   ],
   "source": [
    "print(f' The percentage of Developers who work part-time and are slightly satisfied with their job is 67 out of {len(employ_parttime)}.')"
   ]
  },
  {
   "cell_type": "code",
   "execution_count": 82,
   "id": "14c39230",
   "metadata": {},
   "outputs": [
    {
     "data": {
      "text/plain": [
       "<seaborn.axisgrid.JointGrid at 0x167f53b6700>"
      ]
     },
     "execution_count": 82,
     "metadata": {},
     "output_type": "execute_result"
    },
    {
     "data": {
      "image/png": "[encoded data removed]",
      "text/plain": [
       "<Figure size 432x432 with 3 Axes>"
      ]
     },
     "metadata": {
      "needs_background": "light"
     },
     "output_type": "display_data"
    }
   ],
   "source": [
    "sns.jointplot(data=employ_jobsat1,y='Employment',x='JobSatNum')\n",
    "#sns.barplot(data=employ_jobsat1,y='Employment',x='JobSatNum', hue='group')\n"
   ]
  },
  {
   "cell_type": "code",
   "execution_count": 83,
   "id": "60aec7fb",
   "metadata": {},
   "outputs": [
    {
     "data": {
      "text/plain": [
       "<AxesSubplot:ylabel='Frequency'>"
      ]
     },
     "execution_count": 83,
     "metadata": {},
     "output_type": "execute_result"
    },
    {
     "data": {
      "image/png": "[encoded data removed]",
      "text/plain": [
       "<Figure size 432x288 with 1 Axes>"
      ]
     },
     "metadata": {
      "needs_background": "light"
     },
     "output_type": "display_data"
    }
   ],
   "source": [
    "employ_jobsat1.plot.hist()"
   ]
  },
  {
   "cell_type": "code",
   "execution_count": 84,
   "id": "c12a8601",
   "metadata": {},
   "outputs": [
    {
     "data": {
      "text/plain": [
       "array([4, 5, 2, 1, 3], dtype=int64)"
      ]
     },
     "execution_count": 84,
     "metadata": {},
     "output_type": "execute_result"
    }
   ],
   "source": [
    "employ_jobsat1.JobSatNum.unique()"
   ]
  },
  {
   "cell_type": "code",
   "execution_count": 85,
   "id": "b3501be8",
   "metadata": {},
   "outputs": [
    {
     "data": {
      "text/plain": [
       "<AxesSubplot:xlabel='JobSatNum', ylabel='Employment'>"
      ]
     },
     "execution_count": 85,
     "metadata": {},
     "output_type": "execute_result"
    },
    {
     "data": {
      "image/png": "[encoded data removed]",
      "text/plain": [
       "<Figure size 432x288 with 1 Axes>"
      ]
     },
     "metadata": {
      "needs_background": "light"
     },
     "output_type": "display_data"
    }
   ],
   "source": [
    "#sns.histplot(employ_jobsat, x='JobSatNum', y='Employment')\n",
    "\n",
    "sns.barplot(\n",
    "    x='JobSatNum',\n",
    "    y='Employment',\n",
    "    data=employ_jobsat1\n",
    ")"
   ]
  },
  {
   "cell_type": "markdown",
   "id": "5099ab39",
   "metadata": {},
   "source": [
    "###    How many survey participants are  \"Developer (someone who codes)/not\"  and how many are they in total?"
   ]
  },
  {
   "cell_type": "code",
   "execution_count": 97,
   "id": "af821543",
   "metadata": {},
   "outputs": [
    {
     "data": {
      "text/html": [
       "<div>\n",
       "<style scoped>\n",
       "    .dataframe tbody tr th:only-of-type {\n",
       "        vertical-align: middle;\n",
       "    }\n",
       "\n",
       "    .dataframe tbody tr th {\n",
       "        vertical-align: top;\n",
       "    }\n",
       "\n",
       "    .dataframe thead th {\n",
       "        text-align: right;\n",
       "    }\n",
       "</style>\n",
       "<table border=\"1\" class=\"dataframe\">\n",
       "  <thead>\n",
       "    <tr style=\"text-align: right;\">\n",
       "      <th></th>\n",
       "      <th>Respondent</th>\n",
       "      <th>MainBranch</th>\n",
       "      <th>Hobbyist</th>\n",
       "      <th>Age</th>\n",
       "      <th>Age1stCode</th>\n",
       "      <th>CompFreq</th>\n",
       "      <th>CompTotal</th>\n",
       "      <th>ConvertedComp</th>\n",
       "      <th>Country</th>\n",
       "      <th>CurrencyDesc</th>\n",
       "      <th>...</th>\n",
       "      <th>SurveyEase</th>\n",
       "      <th>SurveyLength</th>\n",
       "      <th>Trans</th>\n",
       "      <th>UndergradMajor</th>\n",
       "      <th>WebframeDesireNextYear</th>\n",
       "      <th>WebframeWorkedWith</th>\n",
       "      <th>WelcomeChange</th>\n",
       "      <th>WorkWeekHrs</th>\n",
       "      <th>YearsCode</th>\n",
       "      <th>YearsCodePro</th>\n",
       "    </tr>\n",
       "  </thead>\n",
       "  <tbody>\n",
       "    <tr>\n",
       "      <th>0</th>\n",
       "      <td>1</td>\n",
       "      <td>I am a developer by profession</td>\n",
       "      <td>Yes</td>\n",
       "      <td>0.0</td>\n",
       "      <td>13</td>\n",
       "      <td>Monthly</td>\n",
       "      <td>0.0</td>\n",
       "      <td>0.0</td>\n",
       "      <td>Germany</td>\n",
       "      <td>European Euro</td>\n",
       "      <td>...</td>\n",
       "      <td>Neither easy nor difficult</td>\n",
       "      <td>Appropriate in length</td>\n",
       "      <td>No</td>\n",
       "      <td>Computer science, computer engineering, or sof...</td>\n",
       "      <td>ASP.NET Core</td>\n",
       "      <td>ASP.NET;ASP.NET Core</td>\n",
       "      <td>Just as welcome now as I felt last year</td>\n",
       "      <td>50.0</td>\n",
       "      <td>36</td>\n",
       "      <td>27</td>\n",
       "    </tr>\n",
       "  </tbody>\n",
       "</table>\n",
       "<p>1 rows × 61 columns</p>\n",
       "</div>"
      ],
      "text/plain": [
       "   Respondent                      MainBranch Hobbyist  Age Age1stCode  \\\n",
       "0           1  I am a developer by profession      Yes  0.0         13   \n",
       "\n",
       "  CompFreq  CompTotal  ConvertedComp  Country   CurrencyDesc  ...  \\\n",
       "0  Monthly        0.0            0.0  Germany  European Euro  ...   \n",
       "\n",
       "                   SurveyEase           SurveyLength Trans  \\\n",
       "0  Neither easy nor difficult  Appropriate in length    No   \n",
       "\n",
       "                                      UndergradMajor WebframeDesireNextYear  \\\n",
       "0  Computer science, computer engineering, or sof...           ASP.NET Core   \n",
       "\n",
       "     WebframeWorkedWith                            WelcomeChange WorkWeekHrs  \\\n",
       "0  ASP.NET;ASP.NET Core  Just as welcome now as I felt last year        50.0   \n",
       "\n",
       "  YearsCode YearsCodePro  \n",
       "0        36           27  \n",
       "\n",
       "[1 rows x 61 columns]"
      ]
     },
     "execution_count": 97,
     "metadata": {},
     "output_type": "execute_result"
    }
   ],
   "source": [
    "df_dev_german=df[(df[\"MainBranch\"] == \"I am a developer by profession\") & (df[\"Country\"] == \"Germany\")].copy()\n",
    "data=df_dev_german\n",
    "data.head(1)"
   ]
  },
  {
   "cell_type": "code",
   "execution_count": 98,
   "id": "5c466dbf",
   "metadata": {},
   "outputs": [
    {
     "data": {
      "text/plain": [
       "array(['Germany'], dtype=object)"
      ]
     },
     "execution_count": 98,
     "metadata": {},
     "output_type": "execute_result"
    }
   ],
   "source": [
    "data.Country.unique()"
   ]
  },
  {
   "cell_type": "code",
   "execution_count": 99,
   "id": "dffcad49",
   "metadata": {},
   "outputs": [
    {
     "name": "stdout",
     "output_type": "stream",
     "text": [
      " The number of German developer participants are 2877.\n"
     ]
    }
   ],
   "source": [
    "print(f' The number of German developer participants are {data.shape[0]}.')"
   ]
  },
  {
   "cell_type": "code",
   "execution_count": 100,
   "id": "263c6459",
   "metadata": {},
   "outputs": [
    {
     "data": {
      "text/html": [
       "<div>\n",
       "<style scoped>\n",
       "    .dataframe tbody tr th:only-of-type {\n",
       "        vertical-align: middle;\n",
       "    }\n",
       "\n",
       "    .dataframe tbody tr th {\n",
       "        vertical-align: top;\n",
       "    }\n",
       "\n",
       "    .dataframe thead th {\n",
       "        text-align: right;\n",
       "    }\n",
       "</style>\n",
       "<table border=\"1\" class=\"dataframe\">\n",
       "  <thead>\n",
       "    <tr style=\"text-align: right;\">\n",
       "      <th></th>\n",
       "      <th>Respondent</th>\n",
       "      <th>MainBranch</th>\n",
       "      <th>Hobbyist</th>\n",
       "      <th>Age</th>\n",
       "      <th>Age1stCode</th>\n",
       "      <th>CompFreq</th>\n",
       "      <th>CompTotal</th>\n",
       "      <th>ConvertedComp</th>\n",
       "      <th>Country</th>\n",
       "      <th>CurrencyDesc</th>\n",
       "      <th>...</th>\n",
       "      <th>SurveyEase</th>\n",
       "      <th>SurveyLength</th>\n",
       "      <th>Trans</th>\n",
       "      <th>UndergradMajor</th>\n",
       "      <th>WebframeDesireNextYear</th>\n",
       "      <th>WebframeWorkedWith</th>\n",
       "      <th>WelcomeChange</th>\n",
       "      <th>WorkWeekHrs</th>\n",
       "      <th>YearsCode</th>\n",
       "      <th>YearsCodePro</th>\n",
       "    </tr>\n",
       "  </thead>\n",
       "  <tbody>\n",
       "    <tr>\n",
       "      <th>0</th>\n",
       "      <td>1</td>\n",
       "      <td>I am a developer by profession</td>\n",
       "      <td>Yes</td>\n",
       "      <td>0.0</td>\n",
       "      <td>13</td>\n",
       "      <td>Monthly</td>\n",
       "      <td>0.0</td>\n",
       "      <td>0.0</td>\n",
       "      <td>Germany</td>\n",
       "      <td>European Euro</td>\n",
       "      <td>...</td>\n",
       "      <td>Neither easy nor difficult</td>\n",
       "      <td>Appropriate in length</td>\n",
       "      <td>No</td>\n",
       "      <td>Computer science, computer engineering, or sof...</td>\n",
       "      <td>ASP.NET Core</td>\n",
       "      <td>ASP.NET;ASP.NET Core</td>\n",
       "      <td>Just as welcome now as I felt last year</td>\n",
       "      <td>50.0</td>\n",
       "      <td>36</td>\n",
       "      <td>27</td>\n",
       "    </tr>\n",
       "  </tbody>\n",
       "</table>\n",
       "<p>1 rows × 61 columns</p>\n",
       "</div>"
      ],
      "text/plain": [
       "   Respondent                      MainBranch Hobbyist  Age Age1stCode  \\\n",
       "0           1  I am a developer by profession      Yes  0.0         13   \n",
       "\n",
       "  CompFreq  CompTotal  ConvertedComp  Country   CurrencyDesc  ...  \\\n",
       "0  Monthly        0.0            0.0  Germany  European Euro  ...   \n",
       "\n",
       "                   SurveyEase           SurveyLength Trans  \\\n",
       "0  Neither easy nor difficult  Appropriate in length    No   \n",
       "\n",
       "                                      UndergradMajor WebframeDesireNextYear  \\\n",
       "0  Computer science, computer engineering, or sof...           ASP.NET Core   \n",
       "\n",
       "     WebframeWorkedWith                            WelcomeChange WorkWeekHrs  \\\n",
       "0  ASP.NET;ASP.NET Core  Just as welcome now as I felt last year        50.0   \n",
       "\n",
       "  YearsCode YearsCodePro  \n",
       "0        36           27  \n",
       "\n",
       "[1 rows x 61 columns]"
      ]
     },
     "execution_count": 100,
     "metadata": {},
     "output_type": "execute_result"
    }
   ],
   "source": [
    "df_dev_german=df[(df[\"MainBranch\"] == \"I am a developer by profession\") & (df[\"Country\"] == \"Germany\") & df[\"DatabaseWorkedWith\"] != 0].copy()\n",
    "database=df_dev_german\n",
    "database.head(1)"
   ]
  },
  {
   "cell_type": "code",
   "execution_count": 101,
   "id": "8da5213d",
   "metadata": {},
   "outputs": [
    {
     "data": {
      "text/plain": [
       "(2286, 61)"
      ]
     },
     "execution_count": 101,
     "metadata": {},
     "output_type": "execute_result"
    }
   ],
   "source": [
    "database.shape"
   ]
  },
  {
   "cell_type": "code",
   "execution_count": 102,
   "id": "90034d30",
   "metadata": {},
   "outputs": [
    {
     "name": "stdout",
     "output_type": "stream",
     "text": [
      "The percentage of the German developers who gave details of the database worked with is 79.46%.\n"
     ]
    }
   ],
   "source": [
    "print(f'The percentage of the German developers who gave details of the database worked with is {(round((len(database)/len(data)*100),2))}%.')"
   ]
  },
  {
   "cell_type": "markdown",
   "id": "4d1573c6",
   "metadata": {},
   "source": [
    "###      Three most popular Database worked with.\n",
    "\n",
    "Filtered Database worked with. Missing data has been removed."
   ]
  },
  {
   "cell_type": "code",
   "execution_count": 103,
   "id": "83698d4d",
   "metadata": {},
   "outputs": [
    {
     "data": {
      "text/plain": [
       "PostgreSQL                                                                                     128\n",
       "Microsoft SQL Server                                                                           104\n",
       "MySQL                                                                                           93\n",
       "MariaDB;MySQL                                                                                   69\n",
       "SQLite                                                                                          62\n",
       "                                                                                              ... \n",
       "Elasticsearch;Firebase                                                                           1\n",
       "DynamoDB;Elasticsearch;MariaDB;MySQL;Oracle;PostgreSQL;SQLite                                    1\n",
       "Elasticsearch;IBM DB2;MySQL;Oracle;PostgreSQL                                                    1\n",
       "Couchbase;DynamoDB;Elasticsearch;Microsoft SQL Server;MongoDB;MySQL;PostgreSQL;Redis;SQLite      1\n",
       "Couchbase;Microsoft SQL Server;MongoDB;MySQL;PostgreSQL;SQLite                                   1\n",
       "Name: DatabaseWorkedWith, Length: 595, dtype: int64"
      ]
     },
     "execution_count": 103,
     "metadata": {},
     "output_type": "execute_result"
    }
   ],
   "source": [
    "database1=(database['DatabaseWorkedWith']).value_counts()\n",
    "database1"
   ]
  },
  {
   "cell_type": "markdown",
   "id": "826ed10b",
   "metadata": {},
   "source": [
    "The DatabaseWorkedWith column has combined database in some of the entries. It is best to separate it."
   ]
  },
  {
   "cell_type": "markdown",
   "id": "99cc2fcd",
   "metadata": {},
   "source": [
    "####  In order to get the exact sum of each Database worked with; we expand the Database column as see below."
   ]
  },
  {
   "cell_type": "markdown",
   "id": "18c869a2",
   "metadata": {},
   "source": [
    "###   Expanding the columns for further understanding."
   ]
  },
  {
   "cell_type": "code",
   "execution_count": 104,
   "id": "dfaf9a25",
   "metadata": {},
   "outputs": [],
   "source": [
    "def expand_column(df,col):\n",
    "    \"Expand a column with semicolon-separated-values into multiple boolean columns, one for each value in the original column.\"\n",
    "\n",
    "    df = df.copy()\n",
    "\n",
    "    if col not in df.columns:\n",
    "        raise ValueError(f\"Column {col} not found in DataFrame\")\n",
    "\n",
    "    values = set()\n",
    "    for row in df[col]:\n",
    "        if not pd.isna(row):\n",
    "            for value in row.split(\";\"):\n",
    "                values.add(value)\n",
    "\n",
    "    for value in values:\n",
    "        df[f\"{col}_{value}\"] = df[col].map(\n",
    "            lambda v: value in v.split(\";\") if not pd.isna(v) else False\n",
    "        )\n",
    "\n",
    "    return df"
   ]
  },
  {
   "cell_type": "markdown",
   "id": "80f0bcd6",
   "metadata": {},
   "source": [
    "### Expanding the column of DatabaseWorkedWith for German Developers"
   ]
  },
  {
   "cell_type": "code",
   "execution_count": 108,
   "id": "f0b05061",
   "metadata": {},
   "outputs": [],
   "source": [
    "#exp_Database= expand_column(filter_german,\"DatabaseWorkedWith\")\n",
    "#exp_Database.head(2)\n",
    "\n",
    "exp_Database= expand_column(data,\"DatabaseWorkedWith\")\n",
    "exp_Database.head(2)"
   ]
  },
  {
   "cell_type": "markdown",
   "id": "6149e8f6",
   "metadata": {},
   "source": [
    "### Filtering the columns of the dataframe, to only contain columns from the expansion."
   ]
  },
  {
   "cell_type": "code",
   "execution_count": 253,
   "id": "1ce3371d",
   "metadata": {},
   "outputs": [
    {
     "data": {
      "text/plain": [
       "Index(['Respondent', 'MainBranch', 'Hobbyist', 'Age', 'Age1stCode', 'CompFreq',\n",
       "       'CompTotal', 'ConvertedComp', 'Country', 'CurrencyDesc',\n",
       "       'CurrencySymbol', 'DatabaseDesireNextYear', 'DatabaseWorkedWith',\n",
       "       'DevType', 'EdLevel', 'Employment', 'Ethnicity', 'Gender', 'JobFactors',\n",
       "       'JobSat', 'JobSeek', 'LanguageDesireNextYear', 'LanguageWorkedWith',\n",
       "       'MiscTechDesireNextYear', 'MiscTechWorkedWith',\n",
       "       'NEWCollabToolsDesireNextYear', 'NEWCollabToolsWorkedWith', 'NEWDevOps',\n",
       "       'NEWDevOpsImpt', 'NEWEdImpt', 'NEWJobHunt', 'NEWJobHuntResearch',\n",
       "       'NEWLearn', 'NEWOffTopic', 'NEWOnboardGood', 'NEWOtherComms',\n",
       "       'NEWOvertime', 'NEWPurchaseResearch', 'NEWPurpleLink', 'NEWSOSites',\n",
       "       'NEWStuck', 'OpSys', 'OrgSize', 'PlatformDesireNextYear',\n",
       "       'PlatformWorkedWith', 'PurchaseWhat', 'Sexuality', 'SOAccount',\n",
       "       'SOComm', 'SOPartFreq', 'SOVisitFreq', 'SurveyEase', 'SurveyLength',\n",
       "       'Trans', 'UndergradMajor', 'WebframeDesireNextYear',\n",
       "       'WebframeWorkedWith', 'WelcomeChange', 'WorkWeekHrs', 'YearsCode',\n",
       "       'YearsCodePro', 'DatabaseWorkedWith_MongoDB',\n",
       "       'DatabaseWorkedWith_MariaDB', 'DatabaseWorkedWith_Redis',\n",
       "       'DatabaseWorkedWith_Cassandra', 'DatabaseWorkedWith_MySQL',\n",
       "       'DatabaseWorkedWith_Microsoft SQL Server',\n",
       "       'DatabaseWorkedWith_DynamoDB', 'DatabaseWorkedWith_PostgreSQL',\n",
       "       'DatabaseWorkedWith_Firebase', 'DatabaseWorkedWith_IBM DB2',\n",
       "       'DatabaseWorkedWith_Elasticsearch', 'DatabaseWorkedWith_Oracle',\n",
       "       'DatabaseWorkedWith_SQLite', 'DatabaseWorkedWith_Couchbase'],\n",
       "      dtype='object')"
      ]
     },
     "execution_count": 253,
     "metadata": {},
     "output_type": "execute_result"
    }
   ],
   "source": [
    "exp_Database.columns"
   ]
  },
  {
   "cell_type": "markdown",
   "id": "8a7a813d",
   "metadata": {},
   "source": [
    "###   Filter the columns of the dataframe, to only contain columns from the expansion. "
   ]
  },
  {
   "cell_type": "code",
   "execution_count": 254,
   "id": "bea6e514",
   "metadata": {
    "scrolled": true
   },
   "outputs": [
    {
     "data": {
      "text/html": [
       "<div>\n",
       "<style scoped>\n",
       "    .dataframe tbody tr th:only-of-type {\n",
       "        vertical-align: middle;\n",
       "    }\n",
       "\n",
       "    .dataframe tbody tr th {\n",
       "        vertical-align: top;\n",
       "    }\n",
       "\n",
       "    .dataframe thead th {\n",
       "        text-align: right;\n",
       "    }\n",
       "</style>\n",
       "<table border=\"1\" class=\"dataframe\">\n",
       "  <thead>\n",
       "    <tr style=\"text-align: right;\">\n",
       "      <th></th>\n",
       "      <th>DatabaseWorkedWith_SQLite</th>\n",
       "      <th>DatabaseWorkedWith_Cassandra</th>\n",
       "      <th>DatabaseWorkedWith_DynamoDB</th>\n",
       "      <th>DatabaseWorkedWith_MongoDB</th>\n",
       "      <th>DatabaseWorkedWith_Couchbase</th>\n",
       "      <th>DatabaseWorkedWith_PostgreSQL</th>\n",
       "      <th>DatabaseWorkedWith_Elasticsearch</th>\n",
       "      <th>DatabaseWorkedWith_Microsoft SQL Server</th>\n",
       "      <th>DatabaseWorkedWith_Redis</th>\n",
       "      <th>DatabaseWorkedWith_Firebase</th>\n",
       "      <th>DatabaseWorkedWith_MariaDB</th>\n",
       "      <th>DatabaseWorkedWith_MySQL</th>\n",
       "      <th>DatabaseWorkedWith_Oracle</th>\n",
       "      <th>DatabaseWorkedWith_IBM DB2</th>\n",
       "    </tr>\n",
       "  </thead>\n",
       "  <tbody>\n",
       "    <tr>\n",
       "      <th>0</th>\n",
       "      <td>False</td>\n",
       "      <td>False</td>\n",
       "      <td>False</td>\n",
       "      <td>False</td>\n",
       "      <td>False</td>\n",
       "      <td>False</td>\n",
       "      <td>True</td>\n",
       "      <td>True</td>\n",
       "      <td>False</td>\n",
       "      <td>False</td>\n",
       "      <td>False</td>\n",
       "      <td>False</td>\n",
       "      <td>True</td>\n",
       "      <td>False</td>\n",
       "    </tr>\n",
       "    <tr>\n",
       "      <th>5</th>\n",
       "      <td>False</td>\n",
       "      <td>False</td>\n",
       "      <td>False</td>\n",
       "      <td>False</td>\n",
       "      <td>False</td>\n",
       "      <td>False</td>\n",
       "      <td>False</td>\n",
       "      <td>False</td>\n",
       "      <td>False</td>\n",
       "      <td>False</td>\n",
       "      <td>False</td>\n",
       "      <td>False</td>\n",
       "      <td>False</td>\n",
       "      <td>False</td>\n",
       "    </tr>\n",
       "    <tr>\n",
       "      <th>22</th>\n",
       "      <td>False</td>\n",
       "      <td>False</td>\n",
       "      <td>False</td>\n",
       "      <td>False</td>\n",
       "      <td>False</td>\n",
       "      <td>False</td>\n",
       "      <td>False</td>\n",
       "      <td>False</td>\n",
       "      <td>False</td>\n",
       "      <td>False</td>\n",
       "      <td>False</td>\n",
       "      <td>False</td>\n",
       "      <td>False</td>\n",
       "      <td>False</td>\n",
       "    </tr>\n",
       "    <tr>\n",
       "      <th>23</th>\n",
       "      <td>True</td>\n",
       "      <td>False</td>\n",
       "      <td>False</td>\n",
       "      <td>False</td>\n",
       "      <td>False</td>\n",
       "      <td>True</td>\n",
       "      <td>False</td>\n",
       "      <td>False</td>\n",
       "      <td>False</td>\n",
       "      <td>False</td>\n",
       "      <td>False</td>\n",
       "      <td>False</td>\n",
       "      <td>False</td>\n",
       "      <td>False</td>\n",
       "    </tr>\n",
       "    <tr>\n",
       "      <th>33</th>\n",
       "      <td>False</td>\n",
       "      <td>False</td>\n",
       "      <td>False</td>\n",
       "      <td>True</td>\n",
       "      <td>False</td>\n",
       "      <td>True</td>\n",
       "      <td>False</td>\n",
       "      <td>False</td>\n",
       "      <td>False</td>\n",
       "      <td>False</td>\n",
       "      <td>False</td>\n",
       "      <td>False</td>\n",
       "      <td>False</td>\n",
       "      <td>False</td>\n",
       "    </tr>\n",
       "  </tbody>\n",
       "</table>\n",
       "</div>"
      ],
      "text/plain": [
       "    DatabaseWorkedWith_SQLite  DatabaseWorkedWith_Cassandra  \\\n",
       "0                       False                         False   \n",
       "5                       False                         False   \n",
       "22                      False                         False   \n",
       "23                       True                         False   \n",
       "33                      False                         False   \n",
       "\n",
       "    DatabaseWorkedWith_DynamoDB  DatabaseWorkedWith_MongoDB  \\\n",
       "0                         False                       False   \n",
       "5                         False                       False   \n",
       "22                        False                       False   \n",
       "23                        False                       False   \n",
       "33                        False                        True   \n",
       "\n",
       "    DatabaseWorkedWith_Couchbase  DatabaseWorkedWith_PostgreSQL  \\\n",
       "0                          False                          False   \n",
       "5                          False                          False   \n",
       "22                         False                          False   \n",
       "23                         False                           True   \n",
       "33                         False                           True   \n",
       "\n",
       "    DatabaseWorkedWith_Elasticsearch  DatabaseWorkedWith_Microsoft SQL Server  \\\n",
       "0                               True                                     True   \n",
       "5                              False                                    False   \n",
       "22                             False                                    False   \n",
       "23                             False                                    False   \n",
       "33                             False                                    False   \n",
       "\n",
       "    DatabaseWorkedWith_Redis  DatabaseWorkedWith_Firebase  \\\n",
       "0                      False                        False   \n",
       "5                      False                        False   \n",
       "22                     False                        False   \n",
       "23                     False                        False   \n",
       "33                     False                        False   \n",
       "\n",
       "    DatabaseWorkedWith_MariaDB  DatabaseWorkedWith_MySQL  \\\n",
       "0                        False                     False   \n",
       "5                        False                     False   \n",
       "22                       False                     False   \n",
       "23                       False                     False   \n",
       "33                       False                     False   \n",
       "\n",
       "    DatabaseWorkedWith_Oracle  DatabaseWorkedWith_IBM DB2  \n",
       "0                        True                       False  \n",
       "5                       False                       False  \n",
       "22                      False                       False  \n",
       "23                      False                       False  \n",
       "33                      False                       False  "
      ]
     },
     "execution_count": 254,
     "metadata": {},
     "output_type": "execute_result"
    }
   ],
   "source": [
    "expand_DB = exp_Database[['DatabaseWorkedWith_SQLite',\n",
    "       'DatabaseWorkedWith_Cassandra', 'DatabaseWorkedWith_DynamoDB',\n",
    "       'DatabaseWorkedWith_MongoDB', 'DatabaseWorkedWith_Couchbase',\n",
    "       'DatabaseWorkedWith_PostgreSQL', 'DatabaseWorkedWith_Elasticsearch',\n",
    "       'DatabaseWorkedWith_Microsoft SQL Server', 'DatabaseWorkedWith_Redis',\n",
    "       'DatabaseWorkedWith_Firebase', 'DatabaseWorkedWith_MariaDB',\n",
    "       'DatabaseWorkedWith_MySQL', 'DatabaseWorkedWith_Oracle',\n",
    "       'DatabaseWorkedWith_IBM DB2']]\n",
    "expand_DB.head()"
   ]
  },
  {
   "cell_type": "markdown",
   "id": "e917ba64",
   "metadata": {},
   "source": [
    "###   Sum and sort values of the database German developers work with"
   ]
  },
  {
   "cell_type": "code",
   "execution_count": 255,
   "id": "5bdd27d5",
   "metadata": {},
   "outputs": [
    {
     "data": {
      "text/plain": [
       "DatabaseWorkedWith_MySQL                   27559\n",
       "DatabaseWorkedWith_PostgreSQL              17892\n",
       "DatabaseWorkedWith_Microsoft SQL Server    16336\n",
       "DatabaseWorkedWith_SQLite                  15434\n",
       "DatabaseWorkedWith_MongoDB                 13086\n",
       "DatabaseWorkedWith_Redis                    9056\n",
       "DatabaseWorkedWith_MariaDB                  8312\n",
       "DatabaseWorkedWith_Oracle                   8155\n",
       "DatabaseWorkedWith_Firebase                 7128\n",
       "DatabaseWorkedWith_Elasticsearch            6817\n",
       "DatabaseWorkedWith_DynamoDB                 3497\n",
       "DatabaseWorkedWith_Cassandra                1654\n",
       "DatabaseWorkedWith_IBM DB2                  1421\n",
       "DatabaseWorkedWith_Couchbase                 937\n",
       "dtype: int64"
      ]
     },
     "execution_count": 255,
     "metadata": {},
     "output_type": "execute_result"
    }
   ],
   "source": [
    "\n",
    "expand_DB = expand_column(df, \"DatabaseWorkedWith\")\n",
    "expand_DB [[\n",
    "\"DatabaseWorkedWith_PostgreSQL\",\n",
    "\"DatabaseWorkedWith_MariaDB\",\n",
    "\"DatabaseWorkedWith_IBM DB2\",\n",
    "\"DatabaseWorkedWith_Cassandra\",\n",
    "\"DatabaseWorkedWith_Microsoft SQL Server\",\n",
    "\"DatabaseWorkedWith_Couchbase\",\n",
    "\"DatabaseWorkedWith_Firebase\",\n",
    "\"DatabaseWorkedWith_Elasticsearch\",\n",
    "\"DatabaseWorkedWith_Redis\",\n",
    "\"DatabaseWorkedWith_SQLite\",\n",
    "\"DatabaseWorkedWith_MySQL\",\n",
    "\"DatabaseWorkedWith_MongoDB\",\n",
    "\"DatabaseWorkedWith_DynamoDB\",\n",
    "\"DatabaseWorkedWith_Oracle\",\n",
    "]\n",
    "].sum().sort_values(ascending=False)\n",
    "\n"
   ]
  },
  {
   "cell_type": "markdown",
   "id": "11835179",
   "metadata": {},
   "source": [
    "\n",
    "#### Now we have correct numbers od database worked with and the three(3) most popular are:\n",
    "- MySQL.\n",
    "- PostgreSQl.\n",
    "- Microsoft SQL Server."
   ]
  },
  {
   "cell_type": "markdown",
   "id": "673cc884",
   "metadata": {},
   "source": [
    "### The top 5 languages which  German developers work with."
   ]
  },
  {
   "cell_type": "markdown",
   "id": "7d807b4b",
   "metadata": {},
   "source": [
    "####  9.1  Exapnding LanguageWorkedWith"
   ]
  },
  {
   "cell_type": "code",
   "execution_count": 260,
   "id": "3c0572f7",
   "metadata": {},
   "outputs": [
    {
     "data": {
      "text/html": [
       "<div>\n",
       "<style scoped>\n",
       "    .dataframe tbody tr th:only-of-type {\n",
       "        vertical-align: middle;\n",
       "    }\n",
       "\n",
       "    .dataframe tbody tr th {\n",
       "        vertical-align: top;\n",
       "    }\n",
       "\n",
       "    .dataframe thead th {\n",
       "        text-align: right;\n",
       "    }\n",
       "</style>\n",
       "<table border=\"1\" class=\"dataframe\">\n",
       "  <thead>\n",
       "    <tr style=\"text-align: right;\">\n",
       "      <th></th>\n",
       "      <th>Respondent</th>\n",
       "      <th>MainBranch</th>\n",
       "      <th>Hobbyist</th>\n",
       "      <th>Age</th>\n",
       "      <th>Age1stCode</th>\n",
       "      <th>CompFreq</th>\n",
       "      <th>CompTotal</th>\n",
       "      <th>ConvertedComp</th>\n",
       "      <th>Country</th>\n",
       "      <th>CurrencyDesc</th>\n",
       "      <th>...</th>\n",
       "      <th>LanguageWorkedWith_Kotlin</th>\n",
       "      <th>LanguageWorkedWith_TypeScript</th>\n",
       "      <th>LanguageWorkedWith_C#</th>\n",
       "      <th>LanguageWorkedWith_Perl</th>\n",
       "      <th>LanguageWorkedWith_Python</th>\n",
       "      <th>LanguageWorkedWith_SQL</th>\n",
       "      <th>LanguageWorkedWith_VBA</th>\n",
       "      <th>LanguageWorkedWith_R</th>\n",
       "      <th>LanguageWorkedWith_Haskell</th>\n",
       "      <th>LanguageWorkedWith_Scala</th>\n",
       "    </tr>\n",
       "  </thead>\n",
       "  <tbody>\n",
       "    <tr>\n",
       "      <th>0</th>\n",
       "      <td>1</td>\n",
       "      <td>I am a developer by profession</td>\n",
       "      <td>Yes</td>\n",
       "      <td>NaN</td>\n",
       "      <td>13</td>\n",
       "      <td>Monthly</td>\n",
       "      <td>NaN</td>\n",
       "      <td>NaN</td>\n",
       "      <td>Germany</td>\n",
       "      <td>European Euro</td>\n",
       "      <td>...</td>\n",
       "      <td>False</td>\n",
       "      <td>False</td>\n",
       "      <td>True</td>\n",
       "      <td>False</td>\n",
       "      <td>False</td>\n",
       "      <td>False</td>\n",
       "      <td>False</td>\n",
       "      <td>False</td>\n",
       "      <td>False</td>\n",
       "      <td>False</td>\n",
       "    </tr>\n",
       "    <tr>\n",
       "      <th>5</th>\n",
       "      <td>6</td>\n",
       "      <td>I am a developer by profession</td>\n",
       "      <td>No</td>\n",
       "      <td>NaN</td>\n",
       "      <td>14</td>\n",
       "      <td>NaN</td>\n",
       "      <td>NaN</td>\n",
       "      <td>NaN</td>\n",
       "      <td>Germany</td>\n",
       "      <td>European Euro</td>\n",
       "      <td>...</td>\n",
       "      <td>False</td>\n",
       "      <td>False</td>\n",
       "      <td>False</td>\n",
       "      <td>False</td>\n",
       "      <td>False</td>\n",
       "      <td>False</td>\n",
       "      <td>False</td>\n",
       "      <td>False</td>\n",
       "      <td>False</td>\n",
       "      <td>False</td>\n",
       "    </tr>\n",
       "  </tbody>\n",
       "</table>\n",
       "<p>2 rows × 86 columns</p>\n",
       "</div>"
      ],
      "text/plain": [
       "   Respondent                      MainBranch Hobbyist  Age Age1stCode  \\\n",
       "0           1  I am a developer by profession      Yes  NaN         13   \n",
       "5           6  I am a developer by profession       No  NaN         14   \n",
       "\n",
       "  CompFreq  CompTotal  ConvertedComp  Country   CurrencyDesc  ...  \\\n",
       "0  Monthly        NaN            NaN  Germany  European Euro  ...   \n",
       "5      NaN        NaN            NaN  Germany  European Euro  ...   \n",
       "\n",
       "  LanguageWorkedWith_Kotlin LanguageWorkedWith_TypeScript  \\\n",
       "0                     False                         False   \n",
       "5                     False                         False   \n",
       "\n",
       "  LanguageWorkedWith_C# LanguageWorkedWith_Perl LanguageWorkedWith_Python  \\\n",
       "0                  True                   False                     False   \n",
       "5                 False                   False                     False   \n",
       "\n",
       "  LanguageWorkedWith_SQL LanguageWorkedWith_VBA LanguageWorkedWith_R  \\\n",
       "0                  False                  False                False   \n",
       "5                  False                  False                False   \n",
       "\n",
       "  LanguageWorkedWith_Haskell LanguageWorkedWith_Scala  \n",
       "0                      False                    False  \n",
       "5                      False                    False  \n",
       "\n",
       "[2 rows x 86 columns]"
      ]
     },
     "execution_count": 260,
     "metadata": {},
     "output_type": "execute_result"
    }
   ],
   "source": [
    "exp_lang=expand_column(data, \"LanguageWorkedWith\")\n",
    "exp_lang.head(2)"
   ]
  },
  {
   "cell_type": "code",
   "execution_count": 261,
   "id": "8cd7fa11",
   "metadata": {},
   "outputs": [
    {
     "data": {
      "text/plain": [
       "Index(['Respondent', 'MainBranch', 'Hobbyist', 'Age', 'Age1stCode', 'CompFreq',\n",
       "       'CompTotal', 'ConvertedComp', 'Country', 'CurrencyDesc',\n",
       "       'CurrencySymbol', 'DatabaseDesireNextYear', 'DatabaseWorkedWith',\n",
       "       'DevType', 'EdLevel', 'Employment', 'Ethnicity', 'Gender', 'JobFactors',\n",
       "       'JobSat', 'JobSeek', 'LanguageDesireNextYear', 'LanguageWorkedWith',\n",
       "       'MiscTechDesireNextYear', 'MiscTechWorkedWith',\n",
       "       'NEWCollabToolsDesireNextYear', 'NEWCollabToolsWorkedWith', 'NEWDevOps',\n",
       "       'NEWDevOpsImpt', 'NEWEdImpt', 'NEWJobHunt', 'NEWJobHuntResearch',\n",
       "       'NEWLearn', 'NEWOffTopic', 'NEWOnboardGood', 'NEWOtherComms',\n",
       "       'NEWOvertime', 'NEWPurchaseResearch', 'NEWPurpleLink', 'NEWSOSites',\n",
       "       'NEWStuck', 'OpSys', 'OrgSize', 'PlatformDesireNextYear',\n",
       "       'PlatformWorkedWith', 'PurchaseWhat', 'Sexuality', 'SOAccount',\n",
       "       'SOComm', 'SOPartFreq', 'SOVisitFreq', 'SurveyEase', 'SurveyLength',\n",
       "       'Trans', 'UndergradMajor', 'WebframeDesireNextYear',\n",
       "       'WebframeWorkedWith', 'WelcomeChange', 'WorkWeekHrs', 'YearsCode',\n",
       "       'YearsCodePro', 'LanguageWorkedWith_Assembly',\n",
       "       'LanguageWorkedWith_Rust', 'LanguageWorkedWith_PHP',\n",
       "       'LanguageWorkedWith_HTML/CSS', 'LanguageWorkedWith_Go',\n",
       "       'LanguageWorkedWith_Ruby', 'LanguageWorkedWith_Dart',\n",
       "       'LanguageWorkedWith_Java', 'LanguageWorkedWith_Julia',\n",
       "       'LanguageWorkedWith_C++', 'LanguageWorkedWith_JavaScript',\n",
       "       'LanguageWorkedWith_C', 'LanguageWorkedWith_Bash/Shell/PowerShell',\n",
       "       'LanguageWorkedWith_Objective-C', 'LanguageWorkedWith_Swift',\n",
       "       'LanguageWorkedWith_Kotlin', 'LanguageWorkedWith_TypeScript',\n",
       "       'LanguageWorkedWith_C#', 'LanguageWorkedWith_Perl',\n",
       "       'LanguageWorkedWith_Python', 'LanguageWorkedWith_SQL',\n",
       "       'LanguageWorkedWith_VBA', 'LanguageWorkedWith_R',\n",
       "       'LanguageWorkedWith_Haskell', 'LanguageWorkedWith_Scala'],\n",
       "      dtype='object')"
      ]
     },
     "execution_count": 261,
     "metadata": {},
     "output_type": "execute_result"
    }
   ],
   "source": [
    "## I could properly see the expansion of the LanguageWorkedwith\n",
    "\n",
    "exp_lang.columns\n"
   ]
  },
  {
   "cell_type": "markdown",
   "id": "7e1dd86c",
   "metadata": {},
   "source": [
    "###    Dataframe with only expanded columns of LanguageWorkedwith."
   ]
  },
  {
   "cell_type": "code",
   "execution_count": 263,
   "id": "d7f30445",
   "metadata": {},
   "outputs": [
    {
     "data": {
      "text/html": [
       "<div>\n",
       "<style scoped>\n",
       "    .dataframe tbody tr th:only-of-type {\n",
       "        vertical-align: middle;\n",
       "    }\n",
       "\n",
       "    .dataframe tbody tr th {\n",
       "        vertical-align: top;\n",
       "    }\n",
       "\n",
       "    .dataframe thead th {\n",
       "        text-align: right;\n",
       "    }\n",
       "</style>\n",
       "<table border=\"1\" class=\"dataframe\">\n",
       "  <thead>\n",
       "    <tr style=\"text-align: right;\">\n",
       "      <th></th>\n",
       "      <th>LanguageWorkedWith_SQL</th>\n",
       "      <th>LanguageWorkedWith_Java</th>\n",
       "      <th>LanguageWorkedWith_C</th>\n",
       "      <th>LanguageWorkedWith_PHP</th>\n",
       "      <th>LanguageWorkedWith_Dart</th>\n",
       "      <th>LanguageWorkedWith_Kotlin</th>\n",
       "      <th>LanguageWorkedWith_Swift</th>\n",
       "      <th>LanguageWorkedWith_JavaScript</th>\n",
       "      <th>LanguageWorkedWith_Ruby</th>\n",
       "      <th>LanguageWorkedWith_Go</th>\n",
       "      <th>...</th>\n",
       "      <th>LanguageWorkedWith_Python</th>\n",
       "      <th>LanguageWorkedWith_R</th>\n",
       "      <th>LanguageWorkedWith_Rust</th>\n",
       "      <th>LanguageWorkedWith_Perl</th>\n",
       "      <th>LanguageWorkedWith_Scala</th>\n",
       "      <th>LanguageWorkedWith_TypeScript</th>\n",
       "      <th>LanguageWorkedWith_Bash/Shell/PowerShell</th>\n",
       "      <th>LanguageWorkedWith_Haskell</th>\n",
       "      <th>LanguageWorkedWith_C#</th>\n",
       "      <th>LanguageWorkedWith_Objective-C</th>\n",
       "    </tr>\n",
       "  </thead>\n",
       "  <tbody>\n",
       "    <tr>\n",
       "      <th>0</th>\n",
       "      <td>False</td>\n",
       "      <td>False</td>\n",
       "      <td>False</td>\n",
       "      <td>False</td>\n",
       "      <td>False</td>\n",
       "      <td>False</td>\n",
       "      <td>False</td>\n",
       "      <td>True</td>\n",
       "      <td>False</td>\n",
       "      <td>False</td>\n",
       "      <td>...</td>\n",
       "      <td>False</td>\n",
       "      <td>False</td>\n",
       "      <td>False</td>\n",
       "      <td>False</td>\n",
       "      <td>False</td>\n",
       "      <td>False</td>\n",
       "      <td>False</td>\n",
       "      <td>False</td>\n",
       "      <td>True</td>\n",
       "      <td>False</td>\n",
       "    </tr>\n",
       "    <tr>\n",
       "      <th>5</th>\n",
       "      <td>False</td>\n",
       "      <td>True</td>\n",
       "      <td>False</td>\n",
       "      <td>False</td>\n",
       "      <td>False</td>\n",
       "      <td>False</td>\n",
       "      <td>False</td>\n",
       "      <td>True</td>\n",
       "      <td>False</td>\n",
       "      <td>False</td>\n",
       "      <td>...</td>\n",
       "      <td>False</td>\n",
       "      <td>False</td>\n",
       "      <td>False</td>\n",
       "      <td>False</td>\n",
       "      <td>False</td>\n",
       "      <td>False</td>\n",
       "      <td>False</td>\n",
       "      <td>False</td>\n",
       "      <td>False</td>\n",
       "      <td>False</td>\n",
       "    </tr>\n",
       "  </tbody>\n",
       "</table>\n",
       "<p>2 rows × 25 columns</p>\n",
       "</div>"
      ],
      "text/plain": [
       "   LanguageWorkedWith_SQL  LanguageWorkedWith_Java  LanguageWorkedWith_C  \\\n",
       "0                   False                    False                 False   \n",
       "5                   False                     True                 False   \n",
       "\n",
       "   LanguageWorkedWith_PHP  LanguageWorkedWith_Dart  LanguageWorkedWith_Kotlin  \\\n",
       "0                   False                    False                      False   \n",
       "5                   False                    False                      False   \n",
       "\n",
       "   LanguageWorkedWith_Swift  LanguageWorkedWith_JavaScript  \\\n",
       "0                     False                           True   \n",
       "5                     False                           True   \n",
       "\n",
       "   LanguageWorkedWith_Ruby  LanguageWorkedWith_Go  ...  \\\n",
       "0                    False                  False  ...   \n",
       "5                    False                  False  ...   \n",
       "\n",
       "   LanguageWorkedWith_Python  LanguageWorkedWith_R  LanguageWorkedWith_Rust  \\\n",
       "0                      False                 False                    False   \n",
       "5                      False                 False                    False   \n",
       "\n",
       "   LanguageWorkedWith_Perl  LanguageWorkedWith_Scala  \\\n",
       "0                    False                     False   \n",
       "5                    False                     False   \n",
       "\n",
       "   LanguageWorkedWith_TypeScript  LanguageWorkedWith_Bash/Shell/PowerShell  \\\n",
       "0                          False                                     False   \n",
       "5                          False                                     False   \n",
       "\n",
       "   LanguageWorkedWith_Haskell  LanguageWorkedWith_C#  \\\n",
       "0                       False                   True   \n",
       "5                       False                  False   \n",
       "\n",
       "   LanguageWorkedWith_Objective-C  \n",
       "0                           False  \n",
       "5                           False  \n",
       "\n",
       "[2 rows x 25 columns]"
      ]
     },
     "execution_count": 263,
     "metadata": {},
     "output_type": "execute_result"
    }
   ],
   "source": [
    "exp_lang=exp_lang[['LanguageWorkedWith_SQL',\n",
    "       'LanguageWorkedWith_Java', 'LanguageWorkedWith_C',\n",
    "       'LanguageWorkedWith_PHP', 'LanguageWorkedWith_Dart',\n",
    "       'LanguageWorkedWith_Kotlin', 'LanguageWorkedWith_Swift',\n",
    "       'LanguageWorkedWith_JavaScript', 'LanguageWorkedWith_Ruby',\n",
    "       'LanguageWorkedWith_Go', 'LanguageWorkedWith_VBA',\n",
    "       'LanguageWorkedWith_HTML/CSS', 'LanguageWorkedWith_Julia',\n",
    "       'LanguageWorkedWith_C++', 'LanguageWorkedWith_Assembly',\n",
    "       'LanguageWorkedWith_Python', 'LanguageWorkedWith_R',\n",
    "       'LanguageWorkedWith_Rust', 'LanguageWorkedWith_Perl',\n",
    "       'LanguageWorkedWith_Scala', 'LanguageWorkedWith_TypeScript',\n",
    "       'LanguageWorkedWith_Bash/Shell/PowerShell',\n",
    "       'LanguageWorkedWith_Haskell', 'LanguageWorkedWith_C#',\n",
    "       'LanguageWorkedWith_Objective-C']]\n",
    "exp_lang.head(2)"
   ]
  },
  {
   "cell_type": "markdown",
   "id": "20dc5c22",
   "metadata": {},
   "source": [
    "### Sum of the Languages worked with by developers."
   ]
  },
  {
   "cell_type": "code",
   "execution_count": 264,
   "id": "7b9b66e5",
   "metadata": {},
   "outputs": [
    {
     "data": {
      "text/plain": [
       "LanguageWorkedWith_JavaScript               1762\n",
       "LanguageWorkedWith_HTML/CSS                 1610\n",
       "LanguageWorkedWith_SQL                      1385\n",
       "LanguageWorkedWith_Java                     1262\n",
       "LanguageWorkedWith_Python                   1123\n",
       "LanguageWorkedWith_Bash/Shell/PowerShell    1099\n",
       "LanguageWorkedWith_TypeScript                838\n",
       "LanguageWorkedWith_C#                        798\n",
       "LanguageWorkedWith_PHP                       707\n",
       "LanguageWorkedWith_C++                       680\n",
       "LanguageWorkedWith_C                         513\n",
       "LanguageWorkedWith_Go                        326\n",
       "LanguageWorkedWith_Kotlin                    302\n",
       "LanguageWorkedWith_Rust                      202\n",
       "LanguageWorkedWith_Ruby                      181\n",
       "LanguageWorkedWith_Swift                     165\n",
       "LanguageWorkedWith_Assembly                  159\n",
       "LanguageWorkedWith_VBA                       149\n",
       "LanguageWorkedWith_Scala                     133\n",
       "LanguageWorkedWith_R                         113\n",
       "LanguageWorkedWith_Objective-C               112\n",
       "LanguageWorkedWith_Perl                      102\n",
       "LanguageWorkedWith_Dart                       84\n",
       "LanguageWorkedWith_Haskell                    66\n",
       "LanguageWorkedWith_Julia                      16\n",
       "dtype: int64"
      ]
     },
     "execution_count": 264,
     "metadata": {},
     "output_type": "execute_result"
    }
   ],
   "source": [
    "exp_lang[['LanguageWorkedWith_SQL',\n",
    "       'LanguageWorkedWith_Java', 'LanguageWorkedWith_C',\n",
    "       'LanguageWorkedWith_PHP', 'LanguageWorkedWith_Dart',\n",
    "       'LanguageWorkedWith_Kotlin', 'LanguageWorkedWith_Swift',\n",
    "       'LanguageWorkedWith_JavaScript', 'LanguageWorkedWith_Ruby',\n",
    "       'LanguageWorkedWith_Go', 'LanguageWorkedWith_VBA',\n",
    "       'LanguageWorkedWith_HTML/CSS', 'LanguageWorkedWith_Julia',\n",
    "       'LanguageWorkedWith_C++', 'LanguageWorkedWith_Assembly',\n",
    "       'LanguageWorkedWith_Python', 'LanguageWorkedWith_R',\n",
    "       'LanguageWorkedWith_Rust', 'LanguageWorkedWith_Perl',\n",
    "       'LanguageWorkedWith_Scala', 'LanguageWorkedWith_TypeScript',\n",
    "       'LanguageWorkedWith_Bash/Shell/PowerShell',\n",
    "       'LanguageWorkedWith_Haskell', 'LanguageWorkedWith_C#',\n",
    "       'LanguageWorkedWith_Objective-C']].sum().sort_values(ascending=False)\n"
   ]
  },
  {
   "cell_type": "markdown",
   "id": "236c94e5",
   "metadata": {},
   "source": [
    "#### Conclusion:\n",
    "The top 5 languages German Developers work with:\n",
    "1. JavaScript.\n",
    "2. HTML/CSS.\n",
    "3. SQL.\n",
    "4. Java.\n",
    "5. Python."
   ]
  },
  {
   "attachments": {},
   "cell_type": "markdown",
   "id": "6bbe627b",
   "metadata": {},
   "source": [
    "### \"How important is a formal education, such as a university degree in computer science, to your career?"
   ]
  },
  {
   "cell_type": "code",
   "execution_count": 265,
   "id": "f9b24d9e",
   "metadata": {},
   "outputs": [
    {
     "data": {
      "text/plain": [
       "Index(['Respondent', 'MainBranch', 'Hobbyist', 'Age', 'Age1stCode', 'CompFreq',\n",
       "       'CompTotal', 'ConvertedComp', 'Country', 'CurrencyDesc',\n",
       "       'CurrencySymbol', 'DatabaseDesireNextYear', 'DatabaseWorkedWith',\n",
       "       'DevType', 'EdLevel', 'Employment', 'Ethnicity', 'Gender', 'JobFactors',\n",
       "       'JobSat', 'JobSeek', 'LanguageDesireNextYear', 'LanguageWorkedWith',\n",
       "       'MiscTechDesireNextYear', 'MiscTechWorkedWith',\n",
       "       'NEWCollabToolsDesireNextYear', 'NEWCollabToolsWorkedWith', 'NEWDevOps',\n",
       "       'NEWDevOpsImpt', 'NEWEdImpt', 'NEWJobHunt', 'NEWJobHuntResearch',\n",
       "       'NEWLearn', 'NEWOffTopic', 'NEWOnboardGood', 'NEWOtherComms',\n",
       "       'NEWOvertime', 'NEWPurchaseResearch', 'NEWPurpleLink', 'NEWSOSites',\n",
       "       'NEWStuck', 'OpSys', 'OrgSize', 'PlatformDesireNextYear',\n",
       "       'PlatformWorkedWith', 'PurchaseWhat', 'Sexuality', 'SOAccount',\n",
       "       'SOComm', 'SOPartFreq', 'SOVisitFreq', 'SurveyEase', 'SurveyLength',\n",
       "       'Trans', 'UndergradMajor', 'WebframeDesireNextYear',\n",
       "       'WebframeWorkedWith', 'WelcomeChange', 'WorkWeekHrs', 'YearsCode',\n",
       "       'YearsCodePro'],\n",
       "      dtype='object')"
      ]
     },
     "execution_count": 265,
     "metadata": {},
     "output_type": "execute_result"
    }
   ],
   "source": [
    "data.columns"
   ]
  },
  {
   "cell_type": "code",
   "execution_count": 267,
   "id": "91bb337c",
   "metadata": {},
   "outputs": [
    {
     "data": {
      "text/plain": [
       "Fairly important                      750\n",
       "Somewhat important                    677\n",
       "Very important                        600\n",
       "Not at all important/not necessary    412\n",
       "Critically important                  181\n",
       "Name: NEWEdImpt, dtype: int64"
      ]
     },
     "execution_count": 267,
     "metadata": {},
     "output_type": "execute_result"
    }
   ],
   "source": [
    "data.NEWEdImpt.value_counts()"
   ]
  },
  {
   "cell_type": "markdown",
   "id": "f28792c1",
   "metadata": {},
   "source": [
    "### Do you have a Stack Overflow account?\n"
   ]
  },
  {
   "cell_type": "code",
   "execution_count": 268,
   "id": "be58d67e",
   "metadata": {},
   "outputs": [
    {
     "data": {
      "text/plain": [
       "Yes                        2300\n",
       "No                          286\n",
       "Not sure/can't remember      91\n",
       "Name: SOAccount, dtype: int64"
      ]
     },
     "execution_count": 268,
     "metadata": {},
     "output_type": "execute_result"
    }
   ],
   "source": [
    "data.SOAccount.value_counts()"
   ]
  },
  {
   "cell_type": "markdown",
   "id": "0e8e84e1",
   "metadata": {},
   "source": [
    "### Do you consider yourself a member of the Stack Overflow community?\n"
   ]
  },
  {
   "cell_type": "code",
   "execution_count": 269,
   "id": "1bdfab17",
   "metadata": {},
   "outputs": [
    {
     "data": {
      "text/plain": [
       "Yes, somewhat      790\n",
       "No, not really     776\n",
       "Neutral            504\n",
       "Yes, definitely    326\n",
       "No, not at all     242\n",
       "Not sure            27\n",
       "Name: SOComm, dtype: int64"
      ]
     },
     "execution_count": 269,
     "metadata": {},
     "output_type": "execute_result"
    }
   ],
   "source": [
    "data.SOComm.value_counts()"
   ]
  },
  {
   "cell_type": "markdown",
   "id": "1d541426",
   "metadata": {},
   "source": [
    "### How frequently do you learn a new language or framework?\n"
   ]
  },
  {
   "cell_type": "code",
   "execution_count": 270,
   "id": "f20f3f8f",
   "metadata": {},
   "outputs": [
    {
     "data": {
      "text/plain": [
       "Once a year             1042\n",
       "Every few months         891\n",
       "Once every few years     687\n",
       "Once a decade             42\n",
       "Name: NEWLearn, dtype: int64"
      ]
     },
     "execution_count": 270,
     "metadata": {},
     "output_type": "execute_result"
    }
   ],
   "source": [
    "data.NEWLearn.value_counts()"
   ]
  },
  {
   "cell_type": "markdown",
   "id": "5275448d",
   "metadata": {},
   "source": [
    "### How frequently would you say you visit Stack Overflow?\n"
   ]
  },
  {
   "cell_type": "code",
   "execution_count": 271,
   "id": "b02385f2",
   "metadata": {},
   "outputs": [
    {
     "data": {
      "text/plain": [
       "Daily or almost daily                  886\n",
       "Multiple times per day                 861\n",
       "A few times per week                   610\n",
       "A few times per month or weekly        281\n",
       "Less than once per month or monthly     38\n",
       "Name: SOVisitFreq, dtype: int64"
      ]
     },
     "execution_count": 271,
     "metadata": {},
     "output_type": "execute_result"
    }
   ],
   "source": [
    "data.SOVisitFreq.value_counts()"
   ]
  },
  {
   "cell_type": "markdown",
   "id": "bb64237f",
   "metadata": {},
   "source": [
    "### WebframeDesireNextYear,\"Which web frameworks have you done extensive development work in over the past year, and which do you want to work in over the next year? (If you both worked with the framework and want to continue to do so, please check both boxes in that row.)\"\n"
   ]
  },
  {
   "cell_type": "code",
   "execution_count": 272,
   "id": "dfc20fbf",
   "metadata": {},
   "outputs": [
    {
     "data": {
      "text/plain": [
       "React.js                                         118\n",
       "Vue.js                                            89\n",
       "Spring                                            85\n",
       "ASP.NET Core                                      59\n",
       "Angular                                           49\n",
       "                                                ... \n",
       "Flask;jQuery;Spring                                1\n",
       "Express;Gatsby;Vue.js                              1\n",
       "ASP.NET Core;Flask                                 1\n",
       "Express;React.js;Symfony;Vue.js                    1\n",
       "Angular;Express;React.js;Ruby on Rails;Spring      1\n",
       "Name: WebframeDesireNextYear, Length: 441, dtype: int64"
      ]
     },
     "execution_count": 272,
     "metadata": {},
     "output_type": "execute_result"
    }
   ],
   "source": [
    "#data.WebframeDesireNextYear.value_counts().head(10)        # the top 10 webframes desired for next year\n",
    "data.WebframeDesireNextYear.value_counts()"
   ]
  },
  {
   "cell_type": "code",
   "execution_count": 273,
   "id": "db01832f",
   "metadata": {},
   "outputs": [
    {
     "data": {
      "text/plain": [
       "0    React.js\n",
       "dtype: object"
      ]
     },
     "execution_count": 273,
     "metadata": {},
     "output_type": "execute_result"
    }
   ],
   "source": [
    "data.WebframeDesireNextYear.mode()"
   ]
  },
  {
   "cell_type": "code",
   "execution_count": 274,
   "id": "ff43a204",
   "metadata": {},
   "outputs": [
    {
     "data": {
      "text/html": [
       "<div>\n",
       "<style scoped>\n",
       "    .dataframe tbody tr th:only-of-type {\n",
       "        vertical-align: middle;\n",
       "    }\n",
       "\n",
       "    .dataframe tbody tr th {\n",
       "        vertical-align: top;\n",
       "    }\n",
       "\n",
       "    .dataframe thead th {\n",
       "        text-align: right;\n",
       "    }\n",
       "</style>\n",
       "<table border=\"1\" class=\"dataframe\">\n",
       "  <thead>\n",
       "    <tr style=\"text-align: right;\">\n",
       "      <th></th>\n",
       "      <th>Respondent</th>\n",
       "      <th>MainBranch</th>\n",
       "      <th>Hobbyist</th>\n",
       "      <th>Age</th>\n",
       "      <th>Age1stCode</th>\n",
       "      <th>CompFreq</th>\n",
       "      <th>CompTotal</th>\n",
       "      <th>ConvertedComp</th>\n",
       "      <th>Country</th>\n",
       "      <th>CurrencyDesc</th>\n",
       "      <th>...</th>\n",
       "      <th>WebframeDesireNextYear_Express</th>\n",
       "      <th>WebframeDesireNextYear_Angular.js</th>\n",
       "      <th>WebframeDesireNextYear_Ruby on Rails</th>\n",
       "      <th>WebframeDesireNextYear_Flask</th>\n",
       "      <th>WebframeDesireNextYear_Angular</th>\n",
       "      <th>WebframeDesireNextYear_jQuery</th>\n",
       "      <th>WebframeDesireNextYear_Laravel</th>\n",
       "      <th>WebframeDesireNextYear_Gatsby</th>\n",
       "      <th>WebframeDesireNextYear_Spring</th>\n",
       "      <th>WebframeDesireNextYear_Drupal</th>\n",
       "    </tr>\n",
       "  </thead>\n",
       "  <tbody>\n",
       "    <tr>\n",
       "      <th>0</th>\n",
       "      <td>1</td>\n",
       "      <td>I am a developer by profession</td>\n",
       "      <td>Yes</td>\n",
       "      <td>NaN</td>\n",
       "      <td>13</td>\n",
       "      <td>Monthly</td>\n",
       "      <td>NaN</td>\n",
       "      <td>NaN</td>\n",
       "      <td>Germany</td>\n",
       "      <td>European Euro</td>\n",
       "      <td>...</td>\n",
       "      <td>False</td>\n",
       "      <td>False</td>\n",
       "      <td>False</td>\n",
       "      <td>False</td>\n",
       "      <td>False</td>\n",
       "      <td>False</td>\n",
       "      <td>False</td>\n",
       "      <td>False</td>\n",
       "      <td>False</td>\n",
       "      <td>False</td>\n",
       "    </tr>\n",
       "    <tr>\n",
       "      <th>5</th>\n",
       "      <td>6</td>\n",
       "      <td>I am a developer by profession</td>\n",
       "      <td>No</td>\n",
       "      <td>NaN</td>\n",
       "      <td>14</td>\n",
       "      <td>NaN</td>\n",
       "      <td>NaN</td>\n",
       "      <td>NaN</td>\n",
       "      <td>Germany</td>\n",
       "      <td>European Euro</td>\n",
       "      <td>...</td>\n",
       "      <td>False</td>\n",
       "      <td>False</td>\n",
       "      <td>False</td>\n",
       "      <td>False</td>\n",
       "      <td>False</td>\n",
       "      <td>False</td>\n",
       "      <td>False</td>\n",
       "      <td>False</td>\n",
       "      <td>False</td>\n",
       "      <td>False</td>\n",
       "    </tr>\n",
       "  </tbody>\n",
       "</table>\n",
       "<p>2 rows × 77 columns</p>\n",
       "</div>"
      ],
      "text/plain": [
       "   Respondent                      MainBranch Hobbyist  Age Age1stCode  \\\n",
       "0           1  I am a developer by profession      Yes  NaN         13   \n",
       "5           6  I am a developer by profession       No  NaN         14   \n",
       "\n",
       "  CompFreq  CompTotal  ConvertedComp  Country   CurrencyDesc  ...  \\\n",
       "0  Monthly        NaN            NaN  Germany  European Euro  ...   \n",
       "5      NaN        NaN            NaN  Germany  European Euro  ...   \n",
       "\n",
       "  WebframeDesireNextYear_Express WebframeDesireNextYear_Angular.js  \\\n",
       "0                          False                             False   \n",
       "5                          False                             False   \n",
       "\n",
       "  WebframeDesireNextYear_Ruby on Rails WebframeDesireNextYear_Flask  \\\n",
       "0                                False                        False   \n",
       "5                                False                        False   \n",
       "\n",
       "  WebframeDesireNextYear_Angular WebframeDesireNextYear_jQuery  \\\n",
       "0                          False                         False   \n",
       "5                          False                         False   \n",
       "\n",
       "  WebframeDesireNextYear_Laravel WebframeDesireNextYear_Gatsby  \\\n",
       "0                          False                         False   \n",
       "5                          False                         False   \n",
       "\n",
       "  WebframeDesireNextYear_Spring WebframeDesireNextYear_Drupal  \n",
       "0                         False                         False  \n",
       "5                         False                         False  \n",
       "\n",
       "[2 rows x 77 columns]"
      ]
     },
     "execution_count": 274,
     "metadata": {},
     "output_type": "execute_result"
    }
   ],
   "source": [
    "exp_webframe= expand_column(data,\"WebframeDesireNextYear\")\n",
    "exp_webframe.head(2)"
   ]
  },
  {
   "cell_type": "code",
   "execution_count": 275,
   "id": "52df1239",
   "metadata": {},
   "outputs": [
    {
     "data": {
      "text/plain": [
       "Index(['Respondent', 'MainBranch', 'Hobbyist', 'Age', 'Age1stCode', 'CompFreq',\n",
       "       'CompTotal', 'ConvertedComp', 'Country', 'CurrencyDesc',\n",
       "       'CurrencySymbol', 'DatabaseDesireNextYear', 'DatabaseWorkedWith',\n",
       "       'DevType', 'EdLevel', 'Employment', 'Ethnicity', 'Gender', 'JobFactors',\n",
       "       'JobSat', 'JobSeek', 'LanguageDesireNextYear', 'LanguageWorkedWith',\n",
       "       'MiscTechDesireNextYear', 'MiscTechWorkedWith',\n",
       "       'NEWCollabToolsDesireNextYear', 'NEWCollabToolsWorkedWith', 'NEWDevOps',\n",
       "       'NEWDevOpsImpt', 'NEWEdImpt', 'NEWJobHunt', 'NEWJobHuntResearch',\n",
       "       'NEWLearn', 'NEWOffTopic', 'NEWOnboardGood', 'NEWOtherComms',\n",
       "       'NEWOvertime', 'NEWPurchaseResearch', 'NEWPurpleLink', 'NEWSOSites',\n",
       "       'NEWStuck', 'OpSys', 'OrgSize', 'PlatformDesireNextYear',\n",
       "       'PlatformWorkedWith', 'PurchaseWhat', 'Sexuality', 'SOAccount',\n",
       "       'SOComm', 'SOPartFreq', 'SOVisitFreq', 'SurveyEase', 'SurveyLength',\n",
       "       'Trans', 'UndergradMajor', 'WebframeDesireNextYear',\n",
       "       'WebframeWorkedWith', 'WelcomeChange', 'WorkWeekHrs', 'YearsCode',\n",
       "       'YearsCodePro', 'WebframeDesireNextYear_Symfony',\n",
       "       'WebframeDesireNextYear_ASP.NET Core', 'WebframeDesireNextYear_Django',\n",
       "       'WebframeDesireNextYear_ASP.NET', 'WebframeDesireNextYear_React.js',\n",
       "       'WebframeDesireNextYear_Vue.js', 'WebframeDesireNextYear_Express',\n",
       "       'WebframeDesireNextYear_Angular.js',\n",
       "       'WebframeDesireNextYear_Ruby on Rails', 'WebframeDesireNextYear_Flask',\n",
       "       'WebframeDesireNextYear_Angular', 'WebframeDesireNextYear_jQuery',\n",
       "       'WebframeDesireNextYear_Laravel', 'WebframeDesireNextYear_Gatsby',\n",
       "       'WebframeDesireNextYear_Spring', 'WebframeDesireNextYear_Drupal'],\n",
       "      dtype='object')"
      ]
     },
     "execution_count": 275,
     "metadata": {},
     "output_type": "execute_result"
    }
   ],
   "source": [
    "exp_webframe.columns"
   ]
  },
  {
   "cell_type": "code",
   "execution_count": 276,
   "id": "b875a604",
   "metadata": {},
   "outputs": [
    {
     "data": {
      "text/plain": [
       "WebframeDesireNextYear_React.js         719\n",
       "WebframeDesireNextYear_Vue.js           597\n",
       "WebframeDesireNextYear_Angular          434\n",
       "WebframeDesireNextYear_Spring           372\n",
       "WebframeDesireNextYear_ASP.NET Core     310\n",
       "WebframeDesireNextYear_Express          300\n",
       "WebframeDesireNextYear_jQuery           286\n",
       "WebframeDesireNextYear_Django           200\n",
       "WebframeDesireNextYear_Flask            187\n",
       "WebframeDesireNextYear_Angular.js       129\n",
       "WebframeDesireNextYear_Symfony          121\n",
       "WebframeDesireNextYear_Laravel          116\n",
       "WebframeDesireNextYear_Ruby on Rails    102\n",
       "WebframeDesireNextYear_Gatsby           102\n",
       "WebframeDesireNextYear_ASP.NET           94\n",
       "WebframeDesireNextYear_Drupal            14\n",
       "dtype: int64"
      ]
     },
     "execution_count": 276,
     "metadata": {},
     "output_type": "execute_result"
    }
   ],
   "source": [
    "exp_webframe[['WebframeDesireNextYear_Symfony',\n",
    "       'WebframeDesireNextYear_ASP.NET Core', 'WebframeDesireNextYear_Django',\n",
    "       'WebframeDesireNextYear_ASP.NET', 'WebframeDesireNextYear_React.js',\n",
    "       'WebframeDesireNextYear_Vue.js', 'WebframeDesireNextYear_Express',\n",
    "       'WebframeDesireNextYear_Angular.js',\n",
    "       'WebframeDesireNextYear_Ruby on Rails', 'WebframeDesireNextYear_Flask',\n",
    "       'WebframeDesireNextYear_Angular', 'WebframeDesireNextYear_jQuery',\n",
    "       'WebframeDesireNextYear_Laravel', 'WebframeDesireNextYear_Gatsby',\n",
    "       'WebframeDesireNextYear_Spring', 'WebframeDesireNextYear_Drupal']].sum().sort_values(ascending=False)\n"
   ]
  },
  {
   "cell_type": "markdown",
   "id": "db036ffb",
   "metadata": {},
   "source": [
    "#### Conclusion:\n",
    "    \n",
    "The top 5 webframes desired to work with:\n",
    "1. React.js\n",
    "2. Vue.js\n",
    "3. Angular\n",
    "4. Spring\n",
    "5. ASP.NET Core"
   ]
  },
  {
   "cell_type": "markdown",
   "id": "e9d70201",
   "metadata": {},
   "source": [
    "### \"Which platforms have you done extensive development work in over the past year, and which do you want to work in over the next year? (If you both worked with the platform and want to continue to do so, please check both boxes in that row.)\"\n"
   ]
  },
  {
   "cell_type": "code",
   "execution_count": 278,
   "id": "82307785",
   "metadata": {},
   "outputs": [
    {
     "data": {
      "text/plain": [
       "Linux                                                                  130\n",
       "Windows                                                                103\n",
       "Linux;Windows                                                           80\n",
       "Docker;Linux                                                            74\n",
       "Docker;Kubernetes;Linux                                                 41\n",
       "                                                                      ... \n",
       "Android;Docker;Google Cloud Platform                                     1\n",
       "Docker;Heroku;iOS;Windows                                                1\n",
       "Docker;Kubernetes;Linux;Microsoft Azure;Slack Apps and Integrations      1\n",
       "AWS;Google Cloud Platform;Microsoft Azure;Windows                        1\n",
       "Android;AWS;Google Cloud Platform;iOS                                    1\n",
       "Name: PlatformDesireNextYear, Length: 866, dtype: int64"
      ]
     },
     "execution_count": 278,
     "metadata": {},
     "output_type": "execute_result"
    }
   ],
   "source": [
    "data.PlatformDesireNextYear.value_counts()"
   ]
  },
  {
   "cell_type": "code",
   "execution_count": 280,
   "id": "1dcd8548",
   "metadata": {},
   "outputs": [
    {
     "data": {
      "text/html": [
       "<div>\n",
       "<style scoped>\n",
       "    .dataframe tbody tr th:only-of-type {\n",
       "        vertical-align: middle;\n",
       "    }\n",
       "\n",
       "    .dataframe tbody tr th {\n",
       "        vertical-align: top;\n",
       "    }\n",
       "\n",
       "    .dataframe thead th {\n",
       "        text-align: right;\n",
       "    }\n",
       "</style>\n",
       "<table border=\"1\" class=\"dataframe\">\n",
       "  <thead>\n",
       "    <tr style=\"text-align: right;\">\n",
       "      <th></th>\n",
       "      <th>Respondent</th>\n",
       "      <th>MainBranch</th>\n",
       "      <th>Hobbyist</th>\n",
       "      <th>Age</th>\n",
       "      <th>Age1stCode</th>\n",
       "      <th>CompFreq</th>\n",
       "      <th>CompTotal</th>\n",
       "      <th>ConvertedComp</th>\n",
       "      <th>Country</th>\n",
       "      <th>CurrencyDesc</th>\n",
       "      <th>...</th>\n",
       "      <th>PlatformDesireNextYear_Raspberry Pi</th>\n",
       "      <th>PlatformDesireNextYear_Google Cloud Platform</th>\n",
       "      <th>PlatformDesireNextYear_Windows</th>\n",
       "      <th>PlatformDesireNextYear_Microsoft Azure</th>\n",
       "      <th>PlatformDesireNextYear_Heroku</th>\n",
       "      <th>PlatformDesireNextYear_Arduino</th>\n",
       "      <th>PlatformDesireNextYear_Slack Apps and Integrations</th>\n",
       "      <th>PlatformDesireNextYear_Docker</th>\n",
       "      <th>PlatformDesireNextYear_IBM Cloud or Watson</th>\n",
       "      <th>PlatformDesireNextYear_Kubernetes</th>\n",
       "    </tr>\n",
       "  </thead>\n",
       "  <tbody>\n",
       "    <tr>\n",
       "      <th>0</th>\n",
       "      <td>1</td>\n",
       "      <td>I am a developer by profession</td>\n",
       "      <td>Yes</td>\n",
       "      <td>NaN</td>\n",
       "      <td>13</td>\n",
       "      <td>Monthly</td>\n",
       "      <td>NaN</td>\n",
       "      <td>NaN</td>\n",
       "      <td>Germany</td>\n",
       "      <td>European Euro</td>\n",
       "      <td>...</td>\n",
       "      <td>False</td>\n",
       "      <td>False</td>\n",
       "      <td>True</td>\n",
       "      <td>True</td>\n",
       "      <td>False</td>\n",
       "      <td>False</td>\n",
       "      <td>False</td>\n",
       "      <td>False</td>\n",
       "      <td>False</td>\n",
       "      <td>True</td>\n",
       "    </tr>\n",
       "  </tbody>\n",
       "</table>\n",
       "<p>1 rows × 77 columns</p>\n",
       "</div>"
      ],
      "text/plain": [
       "   Respondent                      MainBranch Hobbyist  Age Age1stCode  \\\n",
       "0           1  I am a developer by profession      Yes  NaN         13   \n",
       "\n",
       "  CompFreq  CompTotal  ConvertedComp  Country   CurrencyDesc  ...  \\\n",
       "0  Monthly        NaN            NaN  Germany  European Euro  ...   \n",
       "\n",
       "  PlatformDesireNextYear_Raspberry Pi  \\\n",
       "0                               False   \n",
       "\n",
       "  PlatformDesireNextYear_Google Cloud Platform PlatformDesireNextYear_Windows  \\\n",
       "0                                        False                           True   \n",
       "\n",
       "  PlatformDesireNextYear_Microsoft Azure PlatformDesireNextYear_Heroku  \\\n",
       "0                                   True                         False   \n",
       "\n",
       "  PlatformDesireNextYear_Arduino  \\\n",
       "0                          False   \n",
       "\n",
       "  PlatformDesireNextYear_Slack Apps and Integrations  \\\n",
       "0                                              False   \n",
       "\n",
       "  PlatformDesireNextYear_Docker PlatformDesireNextYear_IBM Cloud or Watson  \\\n",
       "0                         False                                      False   \n",
       "\n",
       "  PlatformDesireNextYear_Kubernetes  \n",
       "0                              True  \n",
       "\n",
       "[1 rows x 77 columns]"
      ]
     },
     "execution_count": 280,
     "metadata": {},
     "output_type": "execute_result"
    }
   ],
   "source": [
    "exp_platform= expand_column(data,\"PlatformDesireNextYear\")\n",
    "exp_platform.head(1)"
   ]
  },
  {
   "cell_type": "code",
   "execution_count": 281,
   "id": "f9d556ea",
   "metadata": {},
   "outputs": [
    {
     "data": {
      "text/plain": [
       "Index(['Respondent', 'MainBranch', 'Hobbyist', 'Age', 'Age1stCode', 'CompFreq',\n",
       "       'CompTotal', 'ConvertedComp', 'Country', 'CurrencyDesc',\n",
       "       'CurrencySymbol', 'DatabaseDesireNextYear', 'DatabaseWorkedWith',\n",
       "       'DevType', 'EdLevel', 'Employment', 'Ethnicity', 'Gender', 'JobFactors',\n",
       "       'JobSat', 'JobSeek', 'LanguageDesireNextYear', 'LanguageWorkedWith',\n",
       "       'MiscTechDesireNextYear', 'MiscTechWorkedWith',\n",
       "       'NEWCollabToolsDesireNextYear', 'NEWCollabToolsWorkedWith', 'NEWDevOps',\n",
       "       'NEWDevOpsImpt', 'NEWEdImpt', 'NEWJobHunt', 'NEWJobHuntResearch',\n",
       "       'NEWLearn', 'NEWOffTopic', 'NEWOnboardGood', 'NEWOtherComms',\n",
       "       'NEWOvertime', 'NEWPurchaseResearch', 'NEWPurpleLink', 'NEWSOSites',\n",
       "       'NEWStuck', 'OpSys', 'OrgSize', 'PlatformDesireNextYear',\n",
       "       'PlatformWorkedWith', 'PurchaseWhat', 'Sexuality', 'SOAccount',\n",
       "       'SOComm', 'SOPartFreq', 'SOVisitFreq', 'SurveyEase', 'SurveyLength',\n",
       "       'Trans', 'UndergradMajor', 'WebframeDesireNextYear',\n",
       "       'WebframeWorkedWith', 'WelcomeChange', 'WorkWeekHrs', 'YearsCode',\n",
       "       'YearsCodePro', 'PlatformDesireNextYear_Linux',\n",
       "       'PlatformDesireNextYear_WordPress', 'PlatformDesireNextYear_iOS',\n",
       "       'PlatformDesireNextYear_Android', 'PlatformDesireNextYear_AWS',\n",
       "       'PlatformDesireNextYear_MacOS', 'PlatformDesireNextYear_Raspberry Pi',\n",
       "       'PlatformDesireNextYear_Google Cloud Platform',\n",
       "       'PlatformDesireNextYear_Windows',\n",
       "       'PlatformDesireNextYear_Microsoft Azure',\n",
       "       'PlatformDesireNextYear_Heroku', 'PlatformDesireNextYear_Arduino',\n",
       "       'PlatformDesireNextYear_Slack Apps and Integrations',\n",
       "       'PlatformDesireNextYear_Docker',\n",
       "       'PlatformDesireNextYear_IBM Cloud or Watson',\n",
       "       'PlatformDesireNextYear_Kubernetes'],\n",
       "      dtype='object')"
      ]
     },
     "execution_count": 281,
     "metadata": {},
     "output_type": "execute_result"
    }
   ],
   "source": [
    "exp_platform.columns"
   ]
  },
  {
   "cell_type": "code",
   "execution_count": 282,
   "id": "dca1d97a",
   "metadata": {},
   "outputs": [
    {
     "data": {
      "text/plain": [
       "PlatformDesireNextYear_Linux                          1482\n",
       "PlatformDesireNextYear_Docker                         1323\n",
       "PlatformDesireNextYear_Windows                         875\n",
       "PlatformDesireNextYear_Kubernetes                      780\n",
       "PlatformDesireNextYear_Raspberry Pi                    671\n",
       "PlatformDesireNextYear_AWS                             657\n",
       "PlatformDesireNextYear_Android                         557\n",
       "PlatformDesireNextYear_MacOS                           552\n",
       "PlatformDesireNextYear_Microsoft Azure                 359\n",
       "PlatformDesireNextYear_Google Cloud Platform           355\n",
       "PlatformDesireNextYear_iOS                             328\n",
       "PlatformDesireNextYear_Arduino                         284\n",
       "PlatformDesireNextYear_Heroku                          136\n",
       "PlatformDesireNextYear_Slack Apps and Integrations     133\n",
       "PlatformDesireNextYear_WordPress                       112\n",
       "PlatformDesireNextYear_IBM Cloud or Watson              27\n",
       "dtype: int64"
      ]
     },
     "execution_count": 282,
     "metadata": {},
     "output_type": "execute_result"
    }
   ],
   "source": [
    "exp_platform[['PlatformDesireNextYear_Linux',\n",
    "       'PlatformDesireNextYear_WordPress', 'PlatformDesireNextYear_iOS',\n",
    "       'PlatformDesireNextYear_Android', 'PlatformDesireNextYear_AWS',\n",
    "       'PlatformDesireNextYear_MacOS', 'PlatformDesireNextYear_Raspberry Pi',\n",
    "       'PlatformDesireNextYear_Google Cloud Platform',\n",
    "       'PlatformDesireNextYear_Windows',\n",
    "       'PlatformDesireNextYear_Microsoft Azure',\n",
    "       'PlatformDesireNextYear_Heroku', 'PlatformDesireNextYear_Arduino',\n",
    "       'PlatformDesireNextYear_Slack Apps and Integrations',\n",
    "       'PlatformDesireNextYear_Docker',\n",
    "       'PlatformDesireNextYear_IBM Cloud or Watson',\n",
    "       'PlatformDesireNextYear_Kubernetes']].sum().sort_values(ascending=False)\n"
   ]
  },
  {
   "cell_type": "markdown",
   "id": "e7b4e195",
   "metadata": {},
   "source": [
    "#### Conclusion:\n",
    "    \n",
    "The top 10 platforms desired to work with next year:\n",
    "1. Linux \n",
    "2. Docker \n",
    "3. Windows\n",
    "4. Kubernetes\n",
    "5. Raspberry Pi\n",
    "6. AWS\n",
    "7. Android\n",
    "8. MacOS \n",
    "9. Microsoft Azure \n",
    "10. Google Cloud Platform"
   ]
  },
  {
   "cell_type": "code",
   "execution_count": null,
   "id": "0c2d7b97",
   "metadata": {},
   "outputs": [],
   "source": []
  }
 ],
 "metadata": {
  "kernelspec": {
   "display_name": "Python 3 (ipykernel)",
   "language": "python",
   "name": "python3"
  },
  "language_info": {
   "codemirror_mode": {
    "name": "ipython",
    "version": 3
   },
   "file_extension": ".py",
   "mimetype": "text/x-python",
   "name": "python",
   "nbconvert_exporter": "python",
   "pygments_lexer": "ipython3",
   "version": "3.8.8"
  }
 },
 "nbformat": 4,
 "nbformat_minor": 5
}
